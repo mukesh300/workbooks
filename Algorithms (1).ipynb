{
 "cells": [
  {
   "cell_type": "code",
   "execution_count": 193,
   "metadata": {},
   "outputs": [
    {
     "name": "stdout",
     "output_type": "stream",
     "text": [
      "832040\n",
      "43466557686937456435688527675040625802564660517371780402481729089536555417949051890403879840079255169295922593080322634775209689623239873322471161642996440906533187938298969649928516003704476137795166849228875\n"
     ]
    }
   ],
   "source": [
    "#func fib(n) takes a number as an argument and returns n-th no. of fibonacci seq\n",
    "\n",
    "#bruteForce\n",
    "def fib_r(n):\n",
    "    if n in [1, 2]: return 1\n",
    "    return fib_r(n-2)+fib_r(n-1)\n",
    "       \n",
    "# print(fib_r(30))   \n",
    "\n",
    "#memoization\n",
    "def fib_m(n, memo={}):\n",
    "    if n in memo: return memo[n]\n",
    "    if n in [1, 2]: return 1\n",
    "    memo[n] = fib_m(n-2, memo)+fib_m(n-1, memo)\n",
    "    return memo[n]\n",
    "    \n",
    "print(fib_m(30))\n",
    "\n",
    "#tabulation\n",
    "def fib_t(n):\n",
    "    arr = [0]*(n+1)\n",
    "    arr[1] = 1\n",
    "    for i in range(len(arr)):\n",
    "        if i+1 <=n: arr[i+1]+=arr[i]\n",
    "        if i+2 <=n: arr[i+2]+=arr[i] \n",
    "    return arr[n]\n",
    "\n",
    "print(fib_t(30))\n",
    "# print(timeit.timeit('[func(3) for func in (fib_m,)]', globals=globals())) "
   ]
  },
  {
   "cell_type": "markdown",
   "metadata": {},
   "source": [
    "say that you are a traveler on a 2D grid. You begin in the top-left corner and your goal is to travel to the bottom-right corner. You may only move down or right.\n",
    "\n",
    "In how many ways can you travel to the goal on a grid with dimentions m*n?\n",
    "\n",
    "Write a function 'gridTraveler(m, n)' that claculates this."
   ]
  },
  {
   "cell_type": "code",
   "execution_count": 207,
   "metadata": {},
   "outputs": [
    {
     "name": "stdout",
     "output_type": "stream",
     "text": [
      "48620\n",
      "422446249137753657796980\n",
      "422446249137753657796980\n"
     ]
    }
   ],
   "source": [
    "#grid traveler\n",
    "\n",
    "#bruteForce\n",
    "def gridTraveler_r(m, n):\n",
    "    if m==1 and n==1: return 1\n",
    "    if m<1 or n<1: return 0\n",
    "    return gridTraveler_r(m-1, n) + gridTraveler_r(m, n-1)\n",
    "    \n",
    "print(gridTraveler_r(10,10))\n",
    "\n",
    "#memoization\n",
    "def gridTraveler_m(m, n, memo={}):\n",
    "    if (m, n) in memo: return memo[(m, n)]\n",
    "    if m==1 and n==1: return 1\n",
    "    if m<1 or n<1: return 0\n",
    "    memo[(m, n)] = gridTraveler_m(m-1, n, memo) + gridTraveler_m(m, n-1, memo)\n",
    "    return memo[(m, n)]\n",
    "    \n",
    "print(gridTraveler_m(20, 130))\n",
    "\n",
    "#tabulation\n",
    "def gridTraveler_t(m, n):\n",
    "    tabl = [[0]*(n+1) for _ in range(m+1)]\n",
    "    tabl[1][1]=1\n",
    "    for i in range(m+1):\n",
    "        for j in range(n+1):\n",
    "            if j+1<=n: tabl[i][j+1]+=tabl[i][j]\n",
    "            if i+1<=m: tabl[i+1][j]+=tabl[i][j]\n",
    "    return tabl[m][n]\n",
    "\n",
    "print(gridTraveler_t(20, 130))"
   ]
  },
  {
   "cell_type": "markdown",
   "metadata": {},
   "source": [
    "Write a function 'canSum(targetSum, numbers)' that takes in a targetSum and an array of numbers as arguments.\n",
    "\n",
    "The function should return a boolean indicating  wheather or not it is possible to generate the targetSum using numbers from array.\n",
    "\n",
    "You may use an element of the array as many times as needed.\n",
    "\n",
    "You may assume that all input numbers are nonnegative. "
   ]
  },
  {
   "cell_type": "code",
   "execution_count": 248,
   "metadata": {},
   "outputs": [
    {
     "name": "stdout",
     "output_type": "stream",
     "text": [
      "True\n",
      "False\n",
      "False\n"
     ]
    }
   ],
   "source": [
    "#canSum\n",
    "\n",
    "#bruteForce\n",
    "def canSum_r(targetSum, numbers):\n",
    "    if targetSum < 0: return False\n",
    "    if targetSum == 0: return True\n",
    "    for number in numbers:\n",
    "#         print(targetSum, number)\n",
    "        if canSum_r(targetSum-number, numbers): return True\n",
    "    return False\n",
    "    \n",
    "print(canSum_r(5, [3,2]))    \n",
    "\n",
    "#memoization\n",
    "def canSum_m(targetSum, numbers, memo={}):\n",
    "    if targetSum in memo: return memo[targetSum]\n",
    "    if targetSum < 0: return False\n",
    "    if targetSum == 0: return True\n",
    "    for number in numbers:\n",
    "#         print(targetSum, number)\n",
    "        if canSum_m(targetSum-number, numbers, memo): \n",
    "            memo[targetSum] = True\n",
    "            return True\n",
    "    memo[targetSum] = False\n",
    "    return False\n",
    "\n",
    "print(canSum_m(300, [7,14]))   \n",
    "\n",
    "#tabulation\n",
    "def canSum_t(targetSum, numbers):\n",
    "    table = [False]*(targetSum+1)\n",
    "    table[0]=True\n",
    "    for i in range(targetSum+1):\n",
    "        if table[i] == True:\n",
    "            for num in numbers:\n",
    "                if i+num <= targetSum: table[i+num] = table[i]\n",
    "    return table[targetSum]\n",
    "\n",
    "print(canSum_t(300, [7,14]))   "
   ]
  },
  {
   "cell_type": "markdown",
   "metadata": {},
   "source": [
    "Write a function 'howSum(targetSum, numbers)' that takes in a targetSum and an array of numbers as arguments.\n",
    "\n",
    "The function should return an array containing any combination of elemens that add up to exactly the targetSum. If there is no combination that adds up to the targetSum, then return null.\n",
    "\n",
    "If there are multiple combinations possible, you may return any single one."
   ]
  },
  {
   "cell_type": "code",
   "execution_count": 232,
   "metadata": {},
   "outputs": [
    {
     "name": "stdout",
     "output_type": "stream",
     "text": [
      "[14, 14, 14, 14, 14, 14, 14, 14, 14, 14, 14, 14, 14, 14, 14, 14, 14, 31, 31]\n",
      "[[2, 2, 2, 6]]\n"
     ]
    }
   ],
   "source": [
    "#howSum\n",
    "\n",
    "#bruteForce O(n^m)time/ O(m)space\n",
    "def howSum_r(targetSum, numbers):\n",
    "    if targetSum < 0: return None\n",
    "    if targetSum == 0: return []\n",
    "    for number in numbers:\n",
    "#         print(targetSum, number)\n",
    "        remainderResult = howSum_r(targetSum-number, numbers)\n",
    "        if remainderResult is not None: return remainderResult + [number]\n",
    "    return None\n",
    "\n",
    "# print(howSum_r(12, [3,6,2]))\n",
    "\n",
    "#memoization O(n*m^2)time/ o(m^2)space\n",
    "def howSum_m(targetSum, numbers, memo={}):\n",
    "    if targetSum in memo: return memo[targetSum]\n",
    "    if targetSum < 0: return None\n",
    "    if targetSum == 0: return []\n",
    "    for number in numbers:\n",
    "#         print(targetSum, number)\n",
    "        remainderResult = howSum_m(targetSum-number, numbers, memo)\n",
    "        if remainderResult is not None: \n",
    "            memo[targetSum] = remainderResult + [number]\n",
    "            return memo[targetSum]\n",
    "    memo[targetSum] = None\n",
    "    return None\n",
    "\n",
    "print(howSum_m(300, [31,14]))\n",
    "\n",
    "#tabulation\n",
    "def howSum_t(targetSum, numbers):\n",
    "    table = [None]*(targetSum+1)\n",
    "    table[0] = [[]]\n",
    "    for i in range(targetSum+1):\n",
    "        if table[i] != None:\n",
    "            for num in numbers:\n",
    "                if i+num <= targetSum: table[i+num] = list(map(lambda x: x+[num],table[i]))\n",
    "                if table[targetSum] != None: return table[targetSum]\n",
    "    return table[targetSum]\n",
    "\n",
    "# print(howSum_t(300, [31,14]))\n",
    "print(howSum_t(12, [3,6,2]))"
   ]
  },
  {
   "cell_type": "markdown",
   "metadata": {},
   "source": [
    "Write a funtion 'bestSum(targetSum, numbers)' that takes in a targetSum and an array of numbers as arguments.\n",
    "\n",
    "The function shaould return an array containing the shortest combination of numbers that add up to exactly the targetSum.\n",
    "\n",
    "If there is a tie for the shortest combination, you may return any one of the shortest."
   ]
  },
  {
   "cell_type": "code",
   "execution_count": 237,
   "metadata": {},
   "outputs": [
    {
     "name": "stdout",
     "output_type": "stream",
     "text": [
      "[25, 25, 25, 25]\n",
      "[25, 75, 75, 75, 75, 75, 75, 75, 75, 75, 75, 75, 75, 75]\n"
     ]
    }
   ],
   "source": [
    "#bestsum\n",
    "\n",
    "# bruteForce O(n^m)time/ O(m^2)space\n",
    "def bestSum_r(targetSum, numbers):\n",
    "    if targetSum < 0: return None\n",
    "    if targetSum == 0: return []\n",
    "    shortest_combination = None\n",
    "    for num in numbers:\n",
    "        remainderResult = bestSum_r(targetSum-num, numbers)\n",
    "        if remainderResult is not None:\n",
    "            combination = remainderResult + [num]\n",
    "            if shortest_combination is None or len(shortest_combination) > len(combination):\n",
    "                shortest_combination = combination\n",
    "            \n",
    "    return shortest_combination\n",
    "\n",
    "# bestSum_r(100, [5,4, 1])\n",
    "\n",
    "# memoization O(n*m^2)time/ o(m^2)space\n",
    "def bestSum_m(targetSum, numbers, memo={}):\n",
    "    if targetSum in memo: return memo[targetSum]\n",
    "    if targetSum < 0: return None\n",
    "    if targetSum == 0: return []\n",
    "    shortestCombination = None\n",
    "    for num in numbers:\n",
    "        remainderResult = bestSum_m(targetSum-num, numbers, memo)\n",
    "        if remainderResult is not None:\n",
    "            combination = remainderResult + [num]\n",
    "            if shortestCombination is None or len(shortestCombination) > len(combination):\n",
    "                shortestCombination = combination\n",
    "    memo[targetSum] = shortestCombination            \n",
    "    return shortestCombination\n",
    "\n",
    "print(bestSum_m(100, [5,4, 1, 25]))\n",
    "\n",
    "#tabulation\n",
    "def bestSum_t(targetSum, numbers):\n",
    "    table = [None]*(targetSum+1)\n",
    "    table[0] = []\n",
    "    for i in range(targetSum+1):\n",
    "        if table[i] != None:\n",
    "            for num in numbers:\n",
    "                if i+num <= targetSum: \n",
    "                    if table[i+num] != None:\n",
    "                        table[i+num] = table[i]+[num] if len(table[i]+[num])<len(table[i+num]) else table[i+num]\n",
    "                    else:\n",
    "                        table[i+num] = table[i]+[num]\n",
    "    return table[targetSum]\n",
    "\n",
    "print(bestSum_t(1000, [5,4, 1, 25, 75]))"
   ]
  },
  {
   "cell_type": "markdown",
   "metadata": {},
   "source": [
    "Write a function 'canConstruct(target, wordBank)' that accepts a target string and an array of strings,\n",
    "\n",
    "The fuction should return a boolean indicating whether or not the 'target' can be constructed by concatenating elements of the 'wordBank' array.\n",
    "\n",
    "You may reuse elements of 'wordBank' as many times as needed. "
   ]
  },
  {
   "cell_type": "code",
   "execution_count": 257,
   "metadata": {},
   "outputs": [
    {
     "name": "stdout",
     "output_type": "stream",
     "text": [
      "False\n",
      "False\n",
      "False\n"
     ]
    },
    {
     "data": {
      "text/plain": [
       "True"
      ]
     },
     "execution_count": 257,
     "metadata": {},
     "output_type": "execute_result"
    }
   ],
   "source": [
    "# canConstruct\n",
    "# m = target length, n = word_bank length\n",
    "\n",
    "#bruteForce O(n^m)time/ O(m)space\n",
    "def canConstruct_r(target, wordBank):\n",
    "    if target is '': return True\n",
    "    for word in wordBank:\n",
    "        if target.startswith(word):\n",
    "            if canConstruct_r(target[len(word):], wordBank):\n",
    "                return True\n",
    "    return False\n",
    "\n",
    "print(canConstruct_r(\"mukesh\", [\"es\", \"mu\", \"h\", \"ke\"]))\n",
    "\n",
    "#memoization O(n*m^2)time/ o(m^2)space\n",
    "def canConstruct_m(target, wordBank, memo={}):\n",
    "    if target in memo: return memo[target]\n",
    "    if target is '': return True\n",
    "    for word in wordBank:\n",
    "        if target.startswith(word):\n",
    "            if canConstruct_m(target[len(word):], wordBank):\n",
    "                memo[target] = True\n",
    "                return True\n",
    "    memo[target] = False\n",
    "    return False\n",
    "\n",
    "print(canConstruct_m(\"aaaaaaaaaaaaaaaaaaaaaaaaaaaaaaaaaaaaaaaaaaaaaaaaab\", [\"a\", \"aaaaaaaa\", \"aaaaaaaaa\", \"aaaaaaaaaaaaaaaa\"]))\n",
    "\n",
    "#tabulation\n",
    "def canConstruct_t(target, wordBank):\n",
    "    l = len(target)+1\n",
    "    row = [False]*(l)\n",
    "    row[0] = True\n",
    "    for i in range(l):\n",
    "        if row[i] == True:\n",
    "            for word in wordBank:\n",
    "                if target[i:].startswith(word):\n",
    "                    if i+len(word) <= l: row[i+len(word)] = True\n",
    "    return row[l-1]\n",
    "\n",
    "print(canConstruct_t(\"mukesh\", [\"es\", \"mu\", \"h\", \"ke\"]))\n",
    "canConstruct_t(\"aaaaaaaaaaaaaaaaaaaaaaaaaaaaaaaaaaaaaaaaaaaaaaaaab\", [\"b\", \"aaaaaaaa\", \"aaaaaaaaa\", \"aaaaaaaaaaaaaaaa\"])    "
   ]
  },
  {
   "cell_type": "markdown",
   "metadata": {},
   "source": [
    "Write a function 'countConstruct(target, wordBank)' that accepts a target string and an array of strings.\n",
    "\n",
    "The function should return the number of ways that the 'target' can be constructed by concatenating elements of the 'wordBank' array.\n",
    "\n",
    "You may reuse elements of 'wordBank' as many times as needed."
   ]
  },
  {
   "cell_type": "code",
   "execution_count": 267,
   "metadata": {},
   "outputs": [
    {
     "name": "stdout",
     "output_type": "stream",
     "text": [
      "2\n",
      "2\n",
      "3\n"
     ]
    }
   ],
   "source": [
    "# countConstruct\n",
    "# m = target length, n = word_bank length\n",
    "\n",
    "# bruteForce\n",
    "def countConstruct_r(target, wordBank):\n",
    "    if target is '': return True\n",
    "    number_of_ways = 0\n",
    "    for word in wordBank:\n",
    "        if target.startswith(word):\n",
    "            if countConstruct_r(target[len(word):], wordBank):\n",
    "                number_of_ways += 1\n",
    "    return number_of_ways\n",
    "\n",
    "print(countConstruct_r(\"mukesh\", [\"es\", \"mu\", \"h\", \"k\", \"muk\"]))\n",
    "\n",
    "#memoization O(n*m^2)time/ o(m^2)space\n",
    "def countConstruct_m(target, wordBank, memo={}):\n",
    "    if target in memo: return memo[target]\n",
    "    if target is '': return True\n",
    "    number_of_ways = 0\n",
    "    for word in wordBank:\n",
    "        if target.startswith(word):\n",
    "            if countConstruct_m(target[len(word):], wordBank):\n",
    "                number_of_ways += 1\n",
    "    memo[target] = number_of_ways\n",
    "    return number_of_ways\n",
    "\n",
    "print(countConstruct_m(\"aaaaaaaaaaaaaaaaaaaaaaaaaaaaaaaaaaaaaaaaaaaaaaaaab\", [\"b\", \"aaaaaaaa\", \"aaaaaaaaa\", \"aaaaaaaaaaaaaaaan\"]))\n",
    "\n",
    "#tabulation\n",
    "def countConstruct_t(target, wordBank):\n",
    "    l = len(target)+1\n",
    "    row = [0]*l\n",
    "    row[0] = 1\n",
    "    for i in range(l):\n",
    "        if row[i] > 0:\n",
    "            for word in wordBank:\n",
    "                if target[i:].startswith(word):\n",
    "                    if len(word)+i <= l: row[len(word)+i] +=row[i]\n",
    "    return row[-1]\n",
    "\n",
    "print(countConstruct_t(\"mukesh\", [\"es\", \"muke\", \"h\", \"k\", \"muk\", \"mu\", \"s\"]))"
   ]
  },
  {
   "cell_type": "markdown",
   "metadata": {},
   "source": [
    "Write a function 'allConstruct(target, wordBank)' that accepts a target string and an array of strings.\n",
    "\n",
    "The function should return 2D array containing all of the ways that the 'target' can be constructed by concatenating elements of the 'wordBank' array.\n",
    "\n",
    "You may reuse elements of 'wordBank' as many times as needed."
   ]
  },
  {
   "cell_type": "code",
   "execution_count": 298,
   "metadata": {},
   "outputs": [
    {
     "name": "stdout",
     "output_type": "stream",
     "text": [
      "[['purp', 'le'], ['purp', 'l', 'e'], ['p', 'ur', 'p', 'le'], ['p', 'ur', 'p', 'l', 'e'], ['p', 'urp', 'le'], ['p', 'urp', 'l', 'e'], ['purpl', 'e']]\n",
      "[['purp', 'le'], ['purp', 'l', 'e'], ['p', 'ur', 'p', 'le'], ['p', 'ur', 'p', 'l', 'e'], ['p', 'urp', 'le'], ['p', 'urp', 'l', 'e'], ['purpl', 'e']]\n",
      "[['purp', 'le'], ['p', 'urp', 'le'], ['p', 'ur', 'p', 'le'], ['purpl', 'e'], ['purp', 'l', 'e'], ['p', 'urp', 'l', 'e'], ['p', 'ur', 'p', 'l', 'e']]\n"
     ]
    }
   ],
   "source": [
    "# allConstruct\n",
    "import time\n",
    "# bruteForce\n",
    "def allConstruct(target, wordbank):\n",
    "    if target == '': return [[]]\n",
    "    result = []\n",
    "    for word in wordbank:\n",
    "        if word in target and target.index(word) == 0:\n",
    "            suffix = target[len(word):]\n",
    "            suffixways = allConstruct(suffix, wordbank)\n",
    "            targetways = list(map(lambda x: [word] + x, suffixways))\n",
    "            result.extend(targetways)\n",
    "    return result\n",
    "\n",
    "print(allConstruct('purple', ['purp', 'p', 'ur', 'le', 'purpl', 'u', 'l', 'e', 'urp']))\n",
    "\n",
    "# memoization\n",
    "def allConstruct_m(target, wordbank, memo={}):\n",
    "    if target in memo: return memo[target]\n",
    "    if target == '': return [[]]\n",
    "    result = []\n",
    "    for word in wordbank:\n",
    "        if target.startswith(word):\n",
    "            suffix = target[len(word):]\n",
    "            suffixways = allConstruct_m(suffix, wordbank, memo)\n",
    "            targetways = list(map(lambda x: [word] + x, suffixways))\n",
    "            result.extend(targetways)\n",
    "    memo[target] = result        \n",
    "    return result\n",
    "\n",
    "print(allConstruct_m('purple', ['purp', 'p', 'ur', 'le', 'purpl', 'u', 'l', 'e', 'urp']))\n",
    "\n",
    "#tabulation\n",
    "def allConstruct_t(target, wordbank):\n",
    "    l = len(target)+1\n",
    "    row = [None]*l\n",
    "    row[0]=[[]]\n",
    "    for i in range(l):\n",
    "        if row[i] != None:\n",
    "            for word in wordbank:\n",
    "                if target[i:].startswith(word):\n",
    "                    if len(word)+i <= l:\n",
    "                        if row[len(word)+i] == None: \n",
    "                            row[len(word)+i] = list(map(lambda x: x+[word], row[i]))\n",
    "                        else:\n",
    "                            row[len(word)+i].extend(list(map(lambda x: x+[word], row[i])))\n",
    "                        \n",
    "    return row[-1]                        \n",
    "\n",
    "print(allConstruct_t('purple', ['purp', 'p', 'ur', 'le', 'purpl', 'u', 'l', 'e', 'urp']))"
   ]
  },
  {
   "cell_type": "code",
   "execution_count": 304,
   "metadata": {},
   "outputs": [
    {
     "name": "stdout",
     "output_type": "stream",
     "text": [
      "False\n",
      "False\n"
     ]
    }
   ],
   "source": [
    "#Anagram \n",
    "\n",
    "def anagram1(s1, s2):\n",
    "    s1 = s1.replace(\" \", \"\").lower()\n",
    "    s2 = s2.replace(\" \", \"\").lower()\n",
    "\n",
    "    return sorted(s1)==sorted(s2)\n",
    "\n",
    "def anagram2(s1, s2):\n",
    "    s1.replace(\" \", \"\").lower()\n",
    "    s2.replace(\" \", \"\").lower()\n",
    "    \n",
    "    count = {}\n",
    "    \n",
    "    for letter in s1:\n",
    "        if letter in count:\n",
    "            count[letter] += 1\n",
    "        else:\n",
    "            count[letter] = 1\n",
    "            \n",
    "    for letter in s2:\n",
    "        if letter in count:\n",
    "            count[letter] -=1\n",
    "        else:\n",
    "            return False\n",
    "    \n",
    "    for letter in count:\n",
    "        if count[letter] != 0: return False \n",
    "    \n",
    "    return True\n",
    "    \n",
    "print(anagram1(\"Fourth of July\", \"Joyfull Fourth\"))\n",
    "print(anagram2(\"Fourth of July\", \"Joyfull Fourth\"))"
   ]
  },
  {
   "cell_type": "markdown",
   "metadata": {},
   "source": [
    "Array Pair Sum\n",
    "\n",
    "Given an integer array, output all the uniqe pairs that sum up to a specific value k.\n",
    "\n",
    "So the input :\n",
    "pair_sum([1,2,3,2], 4)\n",
    "would return 2 pairs:\n",
    "(1, 3)\n",
    "(2, 2)"
   ]
  },
  {
   "cell_type": "code",
   "execution_count": 358,
   "metadata": {},
   "outputs": [
    {
     "name": "stdout",
     "output_type": "stream",
     "text": [
      "{(3, 1), (2, 2)}\n"
     ]
    }
   ],
   "source": [
    "#Array Pair Sum\n",
    "\n",
    "def pair_sum(numbers, target):\n",
    "    if len(numbers)<2: return []\n",
    "\n",
    "    seen = set()\n",
    "    output = set()\n",
    "    for number in numbers:\n",
    "        k = target - number\n",
    "        \n",
    "        if k not in seen:\n",
    "            seen.add(number)\n",
    "            \n",
    "        else:\n",
    "            output.add((number, k))\n",
    "\n",
    "    return output\n",
    "\n",
    "print(pair_sum([1,1,2,2,3], 4))"
   ]
  },
  {
   "cell_type": "code",
   "execution_count": null,
   "metadata": {},
   "outputs": [],
   "source": [
    "#Reverse a sentance\n",
    "def rev_"
   ]
  },
  {
   "cell_type": "code",
   "execution_count": 1,
   "metadata": {},
   "outputs": [
    {
     "name": "stdout",
     "output_type": "stream",
     "text": [
      "2\n"
     ]
    },
    {
     "ename": "KeyboardInterrupt",
     "evalue": "",
     "output_type": "error",
     "traceback": [
      "\u001b[1;31m---------------------------------------------------------------------------\u001b[0m",
      "\u001b[1;31mKeyboardInterrupt\u001b[0m                         Traceback (most recent call last)",
      "\u001b[1;32m~\\AppData\\Local\\Continuum\\anaconda3\\lib\\site-packages\\ipykernel\\kernelbase.py\u001b[0m in \u001b[0;36m_input_request\u001b[1;34m(self, prompt, ident, parent, password)\u001b[0m\n\u001b[0;32m    884\u001b[0m             \u001b[1;32mtry\u001b[0m\u001b[1;33m:\u001b[0m\u001b[1;33m\u001b[0m\u001b[1;33m\u001b[0m\u001b[0m\n\u001b[1;32m--> 885\u001b[1;33m                 \u001b[0mident\u001b[0m\u001b[1;33m,\u001b[0m \u001b[0mreply\u001b[0m \u001b[1;33m=\u001b[0m \u001b[0mself\u001b[0m\u001b[1;33m.\u001b[0m\u001b[0msession\u001b[0m\u001b[1;33m.\u001b[0m\u001b[0mrecv\u001b[0m\u001b[1;33m(\u001b[0m\u001b[0mself\u001b[0m\u001b[1;33m.\u001b[0m\u001b[0mstdin_socket\u001b[0m\u001b[1;33m,\u001b[0m \u001b[1;36m0\u001b[0m\u001b[1;33m)\u001b[0m\u001b[1;33m\u001b[0m\u001b[1;33m\u001b[0m\u001b[0m\n\u001b[0m\u001b[0;32m    886\u001b[0m             \u001b[1;32mexcept\u001b[0m \u001b[0mException\u001b[0m\u001b[1;33m:\u001b[0m\u001b[1;33m\u001b[0m\u001b[1;33m\u001b[0m\u001b[0m\n",
      "\u001b[1;32m~\\AppData\\Local\\Continuum\\anaconda3\\lib\\site-packages\\jupyter_client\\session.py\u001b[0m in \u001b[0;36mrecv\u001b[1;34m(self, socket, mode, content, copy)\u001b[0m\n\u001b[0;32m    802\u001b[0m         \u001b[1;32mtry\u001b[0m\u001b[1;33m:\u001b[0m\u001b[1;33m\u001b[0m\u001b[1;33m\u001b[0m\u001b[0m\n\u001b[1;32m--> 803\u001b[1;33m             \u001b[0mmsg_list\u001b[0m \u001b[1;33m=\u001b[0m \u001b[0msocket\u001b[0m\u001b[1;33m.\u001b[0m\u001b[0mrecv_multipart\u001b[0m\u001b[1;33m(\u001b[0m\u001b[0mmode\u001b[0m\u001b[1;33m,\u001b[0m \u001b[0mcopy\u001b[0m\u001b[1;33m=\u001b[0m\u001b[0mcopy\u001b[0m\u001b[1;33m)\u001b[0m\u001b[1;33m\u001b[0m\u001b[1;33m\u001b[0m\u001b[0m\n\u001b[0m\u001b[0;32m    804\u001b[0m         \u001b[1;32mexcept\u001b[0m \u001b[0mzmq\u001b[0m\u001b[1;33m.\u001b[0m\u001b[0mZMQError\u001b[0m \u001b[1;32mas\u001b[0m \u001b[0me\u001b[0m\u001b[1;33m:\u001b[0m\u001b[1;33m\u001b[0m\u001b[1;33m\u001b[0m\u001b[0m\n",
      "\u001b[1;32m~\\AppData\\Local\\Continuum\\anaconda3\\lib\\site-packages\\zmq\\sugar\\socket.py\u001b[0m in \u001b[0;36mrecv_multipart\u001b[1;34m(self, flags, copy, track)\u001b[0m\n\u001b[0;32m    469\u001b[0m         \"\"\"\n\u001b[1;32m--> 470\u001b[1;33m         \u001b[0mparts\u001b[0m \u001b[1;33m=\u001b[0m \u001b[1;33m[\u001b[0m\u001b[0mself\u001b[0m\u001b[1;33m.\u001b[0m\u001b[0mrecv\u001b[0m\u001b[1;33m(\u001b[0m\u001b[0mflags\u001b[0m\u001b[1;33m,\u001b[0m \u001b[0mcopy\u001b[0m\u001b[1;33m=\u001b[0m\u001b[0mcopy\u001b[0m\u001b[1;33m,\u001b[0m \u001b[0mtrack\u001b[0m\u001b[1;33m=\u001b[0m\u001b[0mtrack\u001b[0m\u001b[1;33m)\u001b[0m\u001b[1;33m]\u001b[0m\u001b[1;33m\u001b[0m\u001b[1;33m\u001b[0m\u001b[0m\n\u001b[0m\u001b[0;32m    471\u001b[0m         \u001b[1;31m# have first part already, only loop while more to receive\u001b[0m\u001b[1;33m\u001b[0m\u001b[1;33m\u001b[0m\u001b[1;33m\u001b[0m\u001b[0m\n",
      "\u001b[1;32mzmq/backend/cython/socket.pyx\u001b[0m in \u001b[0;36mzmq.backend.cython.socket.Socket.recv\u001b[1;34m()\u001b[0m\n",
      "\u001b[1;32mzmq/backend/cython/socket.pyx\u001b[0m in \u001b[0;36mzmq.backend.cython.socket.Socket.recv\u001b[1;34m()\u001b[0m\n",
      "\u001b[1;32mzmq/backend/cython/socket.pyx\u001b[0m in \u001b[0;36mzmq.backend.cython.socket._recv_copy\u001b[1;34m()\u001b[0m\n",
      "\u001b[1;32m~\\AppData\\Local\\Continuum\\anaconda3\\lib\\site-packages\\zmq\\backend\\cython\\checkrc.pxd\u001b[0m in \u001b[0;36mzmq.backend.cython.checkrc._check_rc\u001b[1;34m()\u001b[0m\n",
      "\u001b[1;31mKeyboardInterrupt\u001b[0m: ",
      "\nDuring handling of the above exception, another exception occurred:\n",
      "\u001b[1;31mKeyboardInterrupt\u001b[0m                         Traceback (most recent call last)",
      "\u001b[1;32m<ipython-input-1-27340f8ebbe6>\u001b[0m in \u001b[0;36m<module>\u001b[1;34m\u001b[0m\n\u001b[1;32m----> 1\u001b[1;33m \u001b[0mn\u001b[0m \u001b[1;33m=\u001b[0m \u001b[0mint\u001b[0m\u001b[1;33m(\u001b[0m\u001b[0minput\u001b[0m\u001b[1;33m(\u001b[0m\u001b[1;33m)\u001b[0m\u001b[1;33m)\u001b[0m\u001b[1;33m\u001b[0m\u001b[1;33m\u001b[0m\u001b[0m\n\u001b[0m\u001b[0;32m      2\u001b[0m \u001b[0mx\u001b[0m \u001b[1;33m=\u001b[0m \u001b[0mlist\u001b[0m\u001b[1;33m(\u001b[0m\u001b[0mmap\u001b[0m\u001b[1;33m(\u001b[0m\u001b[0mint\u001b[0m\u001b[1;33m,\u001b[0m \u001b[0minput\u001b[0m\u001b[1;33m(\u001b[0m\u001b[1;33m)\u001b[0m\u001b[1;33m.\u001b[0m\u001b[0msplit\u001b[0m\u001b[1;33m(\u001b[0m\u001b[1;34m\" \"\u001b[0m\u001b[1;33m)\u001b[0m\u001b[1;33m)\u001b[0m\u001b[1;33m)\u001b[0m\u001b[1;33m\u001b[0m\u001b[1;33m\u001b[0m\u001b[0m\n\u001b[0;32m      3\u001b[0m \u001b[0mw\u001b[0m \u001b[1;33m=\u001b[0m \u001b[0mlist\u001b[0m\u001b[1;33m(\u001b[0m\u001b[0mmap\u001b[0m\u001b[1;33m(\u001b[0m\u001b[0mint\u001b[0m\u001b[1;33m,\u001b[0m \u001b[0minput\u001b[0m\u001b[1;33m(\u001b[0m\u001b[1;33m)\u001b[0m\u001b[1;33m.\u001b[0m\u001b[0msplit\u001b[0m\u001b[1;33m(\u001b[0m\u001b[1;34m\" \"\u001b[0m\u001b[1;33m)\u001b[0m\u001b[1;33m)\u001b[0m\u001b[1;33m)\u001b[0m\u001b[1;33m\u001b[0m\u001b[1;33m\u001b[0m\u001b[0m\n\u001b[0;32m      4\u001b[0m \u001b[0mw_s\u001b[0m \u001b[1;33m=\u001b[0m \u001b[1;36m0\u001b[0m\u001b[1;33m\u001b[0m\u001b[1;33m\u001b[0m\u001b[0m\n\u001b[0;32m      5\u001b[0m \u001b[0mprint\u001b[0m\u001b[1;33m(\u001b[0m\u001b[0mw\u001b[0m\u001b[1;33m,\u001b[0m \u001b[0mx\u001b[0m\u001b[1;33m)\u001b[0m\u001b[1;33m\u001b[0m\u001b[1;33m\u001b[0m\u001b[0m\n",
      "\u001b[1;32m~\\AppData\\Local\\Continuum\\anaconda3\\lib\\site-packages\\ipykernel\\kernelbase.py\u001b[0m in \u001b[0;36mraw_input\u001b[1;34m(self, prompt)\u001b[0m\n\u001b[0;32m    858\u001b[0m             \u001b[0mself\u001b[0m\u001b[1;33m.\u001b[0m\u001b[0m_parent_ident\u001b[0m\u001b[1;33m,\u001b[0m\u001b[1;33m\u001b[0m\u001b[1;33m\u001b[0m\u001b[0m\n\u001b[0;32m    859\u001b[0m             \u001b[0mself\u001b[0m\u001b[1;33m.\u001b[0m\u001b[0m_parent_header\u001b[0m\u001b[1;33m,\u001b[0m\u001b[1;33m\u001b[0m\u001b[1;33m\u001b[0m\u001b[0m\n\u001b[1;32m--> 860\u001b[1;33m             \u001b[0mpassword\u001b[0m\u001b[1;33m=\u001b[0m\u001b[1;32mFalse\u001b[0m\u001b[1;33m,\u001b[0m\u001b[1;33m\u001b[0m\u001b[1;33m\u001b[0m\u001b[0m\n\u001b[0m\u001b[0;32m    861\u001b[0m         )\n\u001b[0;32m    862\u001b[0m \u001b[1;33m\u001b[0m\u001b[0m\n",
      "\u001b[1;32m~\\AppData\\Local\\Continuum\\anaconda3\\lib\\site-packages\\ipykernel\\kernelbase.py\u001b[0m in \u001b[0;36m_input_request\u001b[1;34m(self, prompt, ident, parent, password)\u001b[0m\n\u001b[0;32m    888\u001b[0m             \u001b[1;32mexcept\u001b[0m \u001b[0mKeyboardInterrupt\u001b[0m\u001b[1;33m:\u001b[0m\u001b[1;33m\u001b[0m\u001b[1;33m\u001b[0m\u001b[0m\n\u001b[0;32m    889\u001b[0m                 \u001b[1;31m# re-raise KeyboardInterrupt, to truncate traceback\u001b[0m\u001b[1;33m\u001b[0m\u001b[1;33m\u001b[0m\u001b[1;33m\u001b[0m\u001b[0m\n\u001b[1;32m--> 890\u001b[1;33m                 \u001b[1;32mraise\u001b[0m \u001b[0mKeyboardInterrupt\u001b[0m\u001b[1;33m\u001b[0m\u001b[1;33m\u001b[0m\u001b[0m\n\u001b[0m\u001b[0;32m    891\u001b[0m             \u001b[1;32melse\u001b[0m\u001b[1;33m:\u001b[0m\u001b[1;33m\u001b[0m\u001b[1;33m\u001b[0m\u001b[0m\n\u001b[0;32m    892\u001b[0m                 \u001b[1;32mbreak\u001b[0m\u001b[1;33m\u001b[0m\u001b[1;33m\u001b[0m\u001b[0m\n",
      "\u001b[1;31mKeyboardInterrupt\u001b[0m: "
     ]
    }
   ],
   "source": [
    "n = int(input())\n",
    "x = list(map(int, input().split(\" \")))\n",
    "w = list(map(int, input().split(\" \")))\n",
    "w_s = 0\n",
    "print(w, x)\n",
    "for a, b in zip(x, w):\n",
    "    w_s += a*b \n",
    "print(w, x)\n",
    "print(\"{:.1f}\".format(w_s/w_))"
   ]
  },
  {
   "cell_type": "code",
   "execution_count": null,
   "metadata": {},
   "outputs": [],
   "source": [
    "import math \n",
    "\n",
    "n = int(input(\"enter the no of elements in the array\"))\n",
    "array = list(map(int, input(\"enter the elements of the array space seperated\").split(\" \")))\n",
    "\n",
    "mean = sum(array)/n\n",
    "\n",
    "s_d = math.sqrt(sum([(x-mean)**2 for x in array])/n)"
   ]
  },
  {
   "cell_type": "code",
   "execution_count": null,
   "metadata": {},
   "outputs": [],
   "source": []
  },
  {
   "cell_type": "code",
   "execution_count": 364,
   "metadata": {},
   "outputs": [
    {
     "name": "stdout",
     "output_type": "stream",
     "text": [
      "[6, 6, 6, 6, 6, 12, 12, 12, 12, 8, 8, 8, 10, 10, 20, 16, 16, 16, 16, 16]\n"
     ]
    }
   ],
   "source": [
    "n = 6\n",
    "x = list(map(int, \"6 12 8 10 20 16\".split(\" \")))\n",
    "w = list(map(int, \"5 4 3 2 1 5\".split(\" \")))\n",
    "array = []\n",
    "s = [array.extend([a]*b) for a, b in zip(x, w)]\n",
    "print(array)"
   ]
  },
  {
   "cell_type": "code",
   "execution_count": 365,
   "metadata": {},
   "outputs": [],
   "source": [
    "from itertools import permutations, combinations\n"
   ]
  },
  {
   "cell_type": "code",
   "execution_count": 381,
   "metadata": {},
   "outputs": [
    {
     "name": "stdout",
     "output_type": "stream",
     "text": [
      "[(1, 2), (1, 3), (1, 4), (1, 5), (1, 6), (2, 1), (2, 3), (2, 4), (2, 5), (2, 6), (3, 1), (3, 2), (3, 4), (3, 5), (3, 6), (4, 1), (4, 2), (4, 3), (4, 5), (4, 6), (5, 1), (5, 2), (5, 3), (5, 4), (5, 6), (6, 1), (6, 2), (6, 3), (6, 4), (6, 5)]\n",
      "30\n"
     ]
    },
    {
     "data": {
      "text/plain": [
       "22"
      ]
     },
     "execution_count": 381,
     "metadata": {},
     "output_type": "execute_result"
    }
   ],
   "source": [
    "p = list(permutations([x for x in range(1, 7)], 2))\n",
    "print(p)\n",
    "print(len(p))\n",
    "f = sum(map(int, list(map(lambda x: x[0]+x[1] < 9, p))))\n",
    "f"
   ]
  },
  {
   "cell_type": "code",
   "execution_count": null,
   "metadata": {},
   "outputs": [],
   "source": [
    " 1/7"
   ]
  },
  {
   "cell_type": "code",
   "execution_count": null,
   "metadata": {},
   "outputs": [],
   "source": []
  },
  {
   "cell_type": "code",
   "execution_count": 385,
   "metadata": {},
   "outputs": [
    {
     "data": {
      "text/plain": [
       "'{}'"
      ]
     },
     "execution_count": 385,
     "metadata": {},
     "output_type": "execute_result"
    }
   ],
   "source": [
    "import json\n",
    "json.dumps({})"
   ]
  },
  {
   "cell_type": "code",
   "execution_count": 394,
   "metadata": {},
   "outputs": [
    {
     "data": {
      "text/plain": [
       "[1, 4]"
      ]
     },
     "execution_count": 394,
     "metadata": {},
     "output_type": "execute_result"
    }
   ],
   "source": [
    "X=4\n",
    "N=2\n",
    "\n",
    "[x**N for x in range(1, X+1) if x**N<= X]"
   ]
  },
  {
   "cell_type": "code",
   "execution_count": 399,
   "metadata": {},
   "outputs": [],
   "source": [
    "animals = ['cat', 'dog', 'rabbit', 'guinea pig']\n",
    "temp = animals.copy()\n",
    "temp.remove('rabbit')"
   ]
  },
  {
   "cell_type": "code",
   "execution_count": 400,
   "metadata": {},
   "outputs": [
    {
     "data": {
      "text/plain": [
       "['cat', 'dog', 'rabbit', 'guinea pig']"
      ]
     },
     "execution_count": 400,
     "metadata": {},
     "output_type": "execute_result"
    }
   ],
   "source": [
    "animals"
   ]
  },
  {
   "cell_type": "code",
   "execution_count": null,
   "metadata": {},
   "outputs": [],
   "source": []
  }
 ],
 "metadata": {
  "kernelspec": {
   "display_name": "Python 3",
   "language": "python",
   "name": "python3"
  },
  "language_info": {
   "codemirror_mode": {
    "name": "ipython",
    "version": 3
   },
   "file_extension": ".py",
   "mimetype": "text/x-python",
   "name": "python",
   "nbconvert_exporter": "python",
   "pygments_lexer": "ipython3",
   "version": "3.7.3"
  }
 },
 "nbformat": 4,
 "nbformat_minor": 2
}
