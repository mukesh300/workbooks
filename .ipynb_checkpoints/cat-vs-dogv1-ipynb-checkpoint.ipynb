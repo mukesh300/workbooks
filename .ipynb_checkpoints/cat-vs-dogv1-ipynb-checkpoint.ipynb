{
 "cells": [
  {
   "cell_type": "markdown",
   "metadata": {
    "papermill": {
     "duration": 0.015012,
     "end_time": "2021-02-28T18:18:51.446384",
     "exception": false,
     "start_time": "2021-02-28T18:18:51.431372",
     "status": "completed"
    },
    "tags": []
   },
   "source": [
    "## importing libraries"
   ]
  },
  {
   "cell_type": "code",
   "execution_count": 2,
   "metadata": {
    "execution": {
     "iopub.execute_input": "2021-02-28T18:18:51.481246Z",
     "iopub.status.busy": "2021-02-28T18:18:51.480628Z",
     "iopub.status.idle": "2021-02-28T18:18:56.611851Z",
     "shell.execute_reply": "2021-02-28T18:18:56.610820Z"
    },
    "papermill": {
     "duration": 5.150326,
     "end_time": "2021-02-28T18:18:56.611986",
     "exception": false,
     "start_time": "2021-02-28T18:18:51.461660",
     "status": "completed"
    },
    "tags": []
   },
   "outputs": [],
   "source": [
    "import keras\n",
    "from keras.preprocessing.image import load_img\n",
    "import matplotlib.pyplot as plt\n",
    "import random\n",
    "from sklearn.model_selection import train_test_split\n",
    "from keras.preprocessing.image import ImageDataGenerator\n",
    "import tensorflow as tf\n",
    "tf.config.run_functions_eagerly(True)"
   ]
  },
  {
   "cell_type": "markdown",
   "metadata": {
    "papermill": {
     "duration": 0.014586,
     "end_time": "2021-02-28T18:18:56.641284",
     "exception": false,
     "start_time": "2021-02-28T18:18:56.626698",
     "status": "completed"
    },
    "tags": []
   },
   "source": [
    "## extracting files"
   ]
  },
  {
   "cell_type": "code",
   "execution_count": 3,
   "metadata": {
    "execution": {
     "iopub.execute_input": "2021-02-28T18:18:56.674313Z",
     "iopub.status.busy": "2021-02-28T18:18:56.673787Z",
     "iopub.status.idle": "2021-02-28T18:19:14.812755Z",
     "shell.execute_reply": "2021-02-28T18:19:14.811763Z"
    },
    "papermill": {
     "duration": 18.157307,
     "end_time": "2021-02-28T18:19:14.812921",
     "exception": false,
     "start_time": "2021-02-28T18:18:56.655614",
     "status": "completed"
    },
    "tags": []
   },
   "outputs": [
    {
     "name": "stdout",
     "output_type": "stream",
     "text": [
      "CPU times: user 7.02 s, sys: 2.21 s, total: 9.23 s\n",
      "Wall time: 18.1 s\n"
     ]
    }
   ],
   "source": [
    "%%time\n",
    "import zipfile\n",
    "with zipfile.ZipFile(\"../input/dogs-vs-cats/train.zip\",'r') as z:\n",
    "    z.extractall(\".\")\n",
    "with zipfile.ZipFile(\"../input/dogs-vs-cats/test1.zip\",'r') as z:\n",
    "    z.extractall(\".\")"
   ]
  },
  {
   "cell_type": "code",
   "execution_count": 4,
   "metadata": {
    "execution": {
     "iopub.execute_input": "2021-02-28T18:19:14.858686Z",
     "iopub.status.busy": "2021-02-28T18:19:14.857877Z",
     "iopub.status.idle": "2021-02-28T18:19:14.905142Z",
     "shell.execute_reply": "2021-02-28T18:19:14.904698Z"
    },
    "papermill": {
     "duration": 0.076683,
     "end_time": "2021-02-28T18:19:14.905284",
     "exception": false,
     "start_time": "2021-02-28T18:19:14.828601",
     "status": "completed"
    },
    "tags": []
   },
   "outputs": [],
   "source": [
    "filenames = os.listdir('/kaggle/working/train')\n",
    "categories = []\n",
    "for filename in filenames:\n",
    "    category = filename.split('.')[0]\n",
    "    if category == 'dog':\n",
    "        categories.append(str(1))\n",
    "    else:\n",
    "        categories.append(str(0))\n",
    "\n",
    "df = pd.DataFrame({\n",
    "    'filename': filenames,\n",
    "    'category': categories\n",
    "})"
   ]
  },
  {
   "cell_type": "markdown",
   "metadata": {
    "papermill": {
     "duration": 0.014726,
     "end_time": "2021-02-28T18:19:14.935045",
     "exception": false,
     "start_time": "2021-02-28T18:19:14.920319",
     "status": "completed"
    },
    "tags": []
   },
   "source": [
    "## splitting of dataset"
   ]
  },
  {
   "cell_type": "code",
   "execution_count": 5,
   "metadata": {
    "execution": {
     "iopub.execute_input": "2021-02-28T18:19:14.973034Z",
     "iopub.status.busy": "2021-02-28T18:19:14.972545Z",
     "iopub.status.idle": "2021-02-28T18:19:14.980918Z",
     "shell.execute_reply": "2021-02-28T18:19:14.980529Z"
    },
    "papermill": {
     "duration": 0.031241,
     "end_time": "2021-02-28T18:19:14.981023",
     "exception": false,
     "start_time": "2021-02-28T18:19:14.949782",
     "status": "completed"
    },
    "tags": []
   },
   "outputs": [],
   "source": [
    "train_data, valid_data = train_test_split(df, test_size=0.2, random_state = 42)\n",
    "train_data = train_data.reset_index(drop=True)\n",
    "valid_data = valid_data.reset_index(drop=True)"
   ]
  },
  {
   "cell_type": "markdown",
   "metadata": {
    "papermill": {
     "duration": 0.015048,
     "end_time": "2021-02-28T18:19:15.011071",
     "exception": false,
     "start_time": "2021-02-28T18:19:14.996023",
     "status": "completed"
    },
    "tags": []
   },
   "source": [
    "## generating training data"
   ]
  },
  {
   "cell_type": "code",
   "execution_count": 6,
   "metadata": {
    "execution": {
     "iopub.execute_input": "2021-02-28T18:19:15.044867Z",
     "iopub.status.busy": "2021-02-28T18:19:15.044370Z",
     "iopub.status.idle": "2021-02-28T18:19:15.048072Z",
     "shell.execute_reply": "2021-02-28T18:19:15.047682Z"
    },
    "papermill": {
     "duration": 0.022248,
     "end_time": "2021-02-28T18:19:15.048174",
     "exception": false,
     "start_time": "2021-02-28T18:19:15.025926",
     "status": "completed"
    },
    "tags": []
   },
   "outputs": [],
   "source": [
    "train_data_gen = ImageDataGenerator(\n",
    "    rotation_range=30,\n",
    "    rescale=1./255,\n",
    "    shear_range=0.1,\n",
    "    zoom_range=0.2,\n",
    "    horizontal_flip=True,\n",
    "    width_shift_range=0.2,\n",
    "    height_shift_range=0.2\n",
    ")"
   ]
  },
  {
   "cell_type": "code",
   "execution_count": 7,
   "metadata": {
    "execution": {
     "iopub.execute_input": "2021-02-28T18:19:15.114476Z",
     "iopub.status.busy": "2021-02-28T18:19:15.104210Z",
     "iopub.status.idle": "2021-02-28T18:19:15.419145Z",
     "shell.execute_reply": "2021-02-28T18:19:15.418551Z"
    },
    "papermill": {
     "duration": 0.355912,
     "end_time": "2021-02-28T18:19:15.419324",
     "exception": false,
     "start_time": "2021-02-28T18:19:15.063412",
     "status": "completed"
    },
    "tags": []
   },
   "outputs": [
    {
     "name": "stdout",
     "output_type": "stream",
     "text": [
      "Found 20000 validated image filenames belonging to 2 classes.\n"
     ]
    }
   ],
   "source": [
    "train_generator = train_data_gen.flow_from_dataframe(\n",
    "    train_data, \n",
    "    \"/kaggle/working/train/\", \n",
    "    x_col='filename',\n",
    "    y_col='category',\n",
    "    target_size=(224,224),\n",
    "    class_mode='categorical',\n",
    "    batch_size=20\n",
    ")"
   ]
  },
  {
   "cell_type": "markdown",
   "metadata": {
    "papermill": {
     "duration": 0.01535,
     "end_time": "2021-02-28T18:19:15.451029",
     "exception": false,
     "start_time": "2021-02-28T18:19:15.435679",
     "status": "completed"
    },
    "tags": []
   },
   "source": [
    "## generating validation data"
   ]
  },
  {
   "cell_type": "code",
   "execution_count": 8,
   "metadata": {
    "execution": {
     "iopub.execute_input": "2021-02-28T18:19:15.501129Z",
     "iopub.status.busy": "2021-02-28T18:19:15.500398Z",
     "iopub.status.idle": "2021-02-28T18:19:15.539116Z",
     "shell.execute_reply": "2021-02-28T18:19:15.539695Z"
    },
    "papermill": {
     "duration": 0.073417,
     "end_time": "2021-02-28T18:19:15.539853",
     "exception": false,
     "start_time": "2021-02-28T18:19:15.466436",
     "status": "completed"
    },
    "tags": []
   },
   "outputs": [
    {
     "name": "stdout",
     "output_type": "stream",
     "text": [
      "Found 5000 validated image filenames belonging to 2 classes.\n"
     ]
    }
   ],
   "source": [
    "valid_data_gen = ImageDataGenerator(rescale=1./255)\n",
    "\n",
    "valid_generator = valid_data_gen.flow_from_dataframe(valid_data, \n",
    "    \"/kaggle/working/train/\", \n",
    "    x_col='filename',\n",
    "    y_col='category',\n",
    "    target_size=(224,224),\n",
    "    class_mode='categorical',\n",
    "    batch_size=20\n",
    ")"
   ]
  },
  {
   "cell_type": "markdown",
   "metadata": {
    "papermill": {
     "duration": 0.015715,
     "end_time": "2021-02-28T18:19:15.571819",
     "exception": false,
     "start_time": "2021-02-28T18:19:15.556104",
     "status": "completed"
    },
    "tags": []
   },
   "source": [
    "# *CNN Model*(ResNet)"
   ]
  },
  {
   "cell_type": "code",
   "execution_count": 9,
   "metadata": {
    "execution": {
     "iopub.execute_input": "2021-02-28T18:19:15.619531Z",
     "iopub.status.busy": "2021-02-28T18:19:15.616186Z",
     "iopub.status.idle": "2021-02-28T18:19:19.336108Z",
     "shell.execute_reply": "2021-02-28T18:19:19.328761Z"
    },
    "papermill": {
     "duration": 3.752781,
     "end_time": "2021-02-28T18:19:19.340480",
     "exception": false,
     "start_time": "2021-02-28T18:19:15.587699",
     "status": "completed"
    },
    "tags": []
   },
   "outputs": [],
   "source": [
    "class ResidualUnit(keras.layers.Layer):\n",
    "    def __init__(self, filters, strides=1, activation_func=\"relu\", **kwargs):\n",
    "        super().__init__(**kwargs)\n",
    "        self.filters = filters\n",
    "        self.strides = strides\n",
    "        self.activation_func = activation_func\n",
    "        self.activation = keras.activations.get(self.activation_func)\n",
    "        self.main_layers = [\n",
    "                            keras.layers.Conv2D(self.filters, 3, strides=self.strides, padding=\"same\", use_bias=False),\n",
    "                            keras.layers.BatchNormalization(),\n",
    "                            self.activation,\n",
    "                            keras.layers.Conv2D(self.filters, 3, strides=1, padding=\"same\", use_bias=False),\n",
    "                            keras.layers.BatchNormalization()\n",
    "        ]\n",
    "        self.skip_layers = []\n",
    "        if self.strides>1:\n",
    "            self.skip_layers = [\n",
    "                            keras.layers.Conv2D(self.filters, 1, strides=self.strides, padding=\"same\", use_bias=False),\n",
    "                            keras.layers.BatchNormalization() \n",
    "            ]\n",
    "            \n",
    "    def call(self, inputs):\n",
    "        Z = inputs\n",
    "        for layer in self.main_layers:\n",
    "            Z = layer(Z)\n",
    "        skip_Z = inputs\n",
    "        for layer in self.skip_layers:\n",
    "            skip_Z = layer(skip_Z)\n",
    "        return self.activation(Z+skip_Z)\n",
    "    \n",
    "    def get_config(self):\n",
    "\n",
    "        config = super().get_config().copy()\n",
    "        config.update({\n",
    "            'filters': self.filters,\n",
    "            'strides': self.strides,\n",
    "            'activation_func': self.activation_func\n",
    "        })\n",
    "        return config\n",
    "\n",
    "model1 = keras.models.Sequential()\n",
    "model1.add(keras.layers.Conv2D(filters=64, kernel_size=7, strides=2, padding='same', use_bias=False, input_shape=(224,224,3)))\n",
    "model1.add(keras.layers.BatchNormalization())\n",
    "model1.add(keras.layers.Activation(\"relu\"))\n",
    "model1.add(keras.layers.MaxPooling2D(pool_size=3, strides=1, padding=\"same\"))\n",
    "prev_filters = 64\n",
    "for filters in [64]*3+[128]*4+[256]*6+[512]*3:\n",
    "    strides = 1 if filters == prev_filters else 2\n",
    "    model1.add(ResidualUnit(filters, strides=strides))\n",
    "    prev_filters=filters\n",
    "model1.add(keras.layers.GlobalAvgPool2D())\n",
    "model1.add(keras.layers.Flatten())\n",
    "model1.add(keras.layers.Dense(units=256, activation='relu'))\n",
    "model1.add(keras.layers.Dropout(0.25))                        \n",
    "model1.add(keras.layers.Dense(units=128, activation='relu'))\n",
    "model1.add(keras.layers.Dropout(0.15))\n",
    "model1.add(keras.layers.Dense(units=64, activation='relu'))\n",
    "model1.add(keras.layers.Dropout(0.10)) \n",
    "model1.add(keras.layers.Dense(units=32, activation='relu'))\n",
    "model1.add(keras.layers.Dropout(0.5)) \n",
    "model1.add(keras.layers.Dense(units=2, activation='softmax'))"
   ]
  },
  {
   "cell_type": "code",
   "execution_count": 10,
   "metadata": {
    "execution": {
     "iopub.execute_input": "2021-02-28T18:19:19.504578Z",
     "iopub.status.busy": "2021-02-28T18:19:19.503720Z",
     "iopub.status.idle": "2021-02-28T18:19:19.545342Z",
     "shell.execute_reply": "2021-02-28T18:19:19.546529Z"
    },
    "papermill": {
     "duration": 0.104305,
     "end_time": "2021-02-28T18:19:19.546774",
     "exception": false,
     "start_time": "2021-02-28T18:19:19.442469",
     "status": "completed"
    },
    "tags": []
   },
   "outputs": [
    {
     "name": "stdout",
     "output_type": "stream",
     "text": [
      "Model: \"sequential\"\n",
      "_________________________________________________________________\n",
      "Layer (type)                 Output Shape              Param #   \n",
      "=================================================================\n",
      "conv2d (Conv2D)              (None, 112, 112, 64)      9408      \n",
      "_________________________________________________________________\n",
      "batch_normalization (BatchNo (None, 112, 112, 64)      256       \n",
      "_________________________________________________________________\n",
      "activation (Activation)      (None, 112, 112, 64)      0         \n",
      "_________________________________________________________________\n",
      "max_pooling2d (MaxPooling2D) (None, 112, 112, 64)      0         \n",
      "_________________________________________________________________\n",
      "residual_unit (ResidualUnit) (None, 112, 112, 64)      74240     \n",
      "_________________________________________________________________\n",
      "residual_unit_1 (ResidualUni (None, 112, 112, 64)      74240     \n",
      "_________________________________________________________________\n",
      "residual_unit_2 (ResidualUni (None, 112, 112, 64)      74240     \n",
      "_________________________________________________________________\n",
      "residual_unit_3 (ResidualUni (None, 56, 56, 128)       230912    \n",
      "_________________________________________________________________\n",
      "residual_unit_4 (ResidualUni (None, 56, 56, 128)       295936    \n",
      "_________________________________________________________________\n",
      "residual_unit_5 (ResidualUni (None, 56, 56, 128)       295936    \n",
      "_________________________________________________________________\n",
      "residual_unit_6 (ResidualUni (None, 56, 56, 128)       295936    \n",
      "_________________________________________________________________\n",
      "residual_unit_7 (ResidualUni (None, 28, 28, 256)       920576    \n",
      "_________________________________________________________________\n",
      "residual_unit_8 (ResidualUni (None, 28, 28, 256)       1181696   \n",
      "_________________________________________________________________\n",
      "residual_unit_9 (ResidualUni (None, 28, 28, 256)       1181696   \n",
      "_________________________________________________________________\n",
      "residual_unit_10 (ResidualUn (None, 28, 28, 256)       1181696   \n",
      "_________________________________________________________________\n",
      "residual_unit_11 (ResidualUn (None, 28, 28, 256)       1181696   \n",
      "_________________________________________________________________\n",
      "residual_unit_12 (ResidualUn (None, 28, 28, 256)       1181696   \n",
      "_________________________________________________________________\n",
      "residual_unit_13 (ResidualUn (None, 14, 14, 512)       3676160   \n",
      "_________________________________________________________________\n",
      "residual_unit_14 (ResidualUn (None, 14, 14, 512)       4722688   \n",
      "_________________________________________________________________\n",
      "residual_unit_15 (ResidualUn (None, 14, 14, 512)       4722688   \n",
      "_________________________________________________________________\n",
      "global_average_pooling2d (Gl (None, 512)               0         \n",
      "_________________________________________________________________\n",
      "flatten (Flatten)            (None, 512)               0         \n",
      "_________________________________________________________________\n",
      "dense (Dense)                (None, 256)               131328    \n",
      "_________________________________________________________________\n",
      "dropout (Dropout)            (None, 256)               0         \n",
      "_________________________________________________________________\n",
      "dense_1 (Dense)              (None, 128)               32896     \n",
      "_________________________________________________________________\n",
      "dropout_1 (Dropout)          (None, 128)               0         \n",
      "_________________________________________________________________\n",
      "dense_2 (Dense)              (None, 64)                8256      \n",
      "_________________________________________________________________\n",
      "dropout_2 (Dropout)          (None, 64)                0         \n",
      "_________________________________________________________________\n",
      "dense_3 (Dense)              (None, 32)                2080      \n",
      "_________________________________________________________________\n",
      "dropout_3 (Dropout)          (None, 32)                0         \n",
      "_________________________________________________________________\n",
      "dense_4 (Dense)              (None, 2)                 66        \n",
      "=================================================================\n",
      "Total params: 21,476,322\n",
      "Trainable params: 21,459,298\n",
      "Non-trainable params: 17,024\n",
      "_________________________________________________________________\n"
     ]
    }
   ],
   "source": [
    "model1.summary()"
   ]
  },
  {
   "cell_type": "code",
   "execution_count": 11,
   "metadata": {
    "execution": {
     "iopub.execute_input": "2021-02-28T18:19:19.622833Z",
     "iopub.status.busy": "2021-02-28T18:19:19.622053Z",
     "iopub.status.idle": "2021-02-28T18:19:19.645843Z",
     "shell.execute_reply": "2021-02-28T18:19:19.644762Z"
    },
    "papermill": {
     "duration": 0.066386,
     "end_time": "2021-02-28T18:19:19.645998",
     "exception": false,
     "start_time": "2021-02-28T18:19:19.579612",
     "status": "completed"
    },
    "tags": []
   },
   "outputs": [],
   "source": [
    "model1.compile(optimizer='adam', loss= 'categorical_crossentropy', metrics=['accuracy'])"
   ]
  },
  {
   "cell_type": "markdown",
   "metadata": {
    "papermill": {
     "duration": 0.026195,
     "end_time": "2021-02-28T18:19:19.698125",
     "exception": false,
     "start_time": "2021-02-28T18:19:19.671930",
     "status": "completed"
    },
    "tags": []
   },
   "source": [
    "## training model"
   ]
  },
  {
   "cell_type": "code",
   "execution_count": 12,
   "metadata": {
    "execution": {
     "iopub.execute_input": "2021-02-28T18:19:19.758814Z",
     "iopub.status.busy": "2021-02-28T18:19:19.758067Z",
     "iopub.status.idle": "2021-02-28T23:34:23.375415Z",
     "shell.execute_reply": "2021-02-28T23:34:23.374914Z"
    },
    "papermill": {
     "duration": 18903.650846,
     "end_time": "2021-02-28T23:34:23.375561",
     "exception": false,
     "start_time": "2021-02-28T18:19:19.724715",
     "status": "completed"
    },
    "tags": []
   },
   "outputs": [
    {
     "name": "stderr",
     "output_type": "stream",
     "text": [
      "/opt/conda/lib/python3.7/site-packages/tensorflow/python/data/ops/dataset_ops.py:3504: UserWarning: Even though the tf.config.experimental_run_functions_eagerly option is set, this option does not apply to tf.data functions. tf.data functions are still traced and executed as graphs.\n",
      "  \"Even though the tf.config.experimental_run_functions_eagerly \"\n"
     ]
    },
    {
     "name": "stdout",
     "output_type": "stream",
     "text": [
      "Epoch 1/150\n",
      "1000/1000 [==============================] - 385s 381ms/step - loss: 0.7224 - accuracy: 0.5195 - val_loss: 0.6946 - val_accuracy: 0.4904\n",
      "Epoch 2/150\n",
      "1000/1000 [==============================] - 384s 384ms/step - loss: 0.6915 - accuracy: 0.5285 - val_loss: 0.6909 - val_accuracy: 0.5414\n",
      "Epoch 3/150\n",
      "1000/1000 [==============================] - 381s 381ms/step - loss: 0.6864 - accuracy: 0.5429 - val_loss: 1.0559 - val_accuracy: 0.5344\n",
      "Epoch 4/150\n",
      "1000/1000 [==============================] - 387s 387ms/step - loss: 0.6715 - accuracy: 0.5709 - val_loss: 0.6702 - val_accuracy: 0.5690\n",
      "Epoch 5/150\n",
      "1000/1000 [==============================] - 389s 389ms/step - loss: 0.6577 - accuracy: 0.6144 - val_loss: 0.6752 - val_accuracy: 0.5640\n",
      "Epoch 6/150\n",
      "1000/1000 [==============================] - 388s 387ms/step - loss: 0.6467 - accuracy: 0.6193 - val_loss: 0.6673 - val_accuracy: 0.5988\n",
      "Epoch 7/150\n",
      "1000/1000 [==============================] - 401s 401ms/step - loss: 0.6525 - accuracy: 0.6168 - val_loss: 0.6427 - val_accuracy: 0.6184\n",
      "Epoch 8/150\n",
      "1000/1000 [==============================] - 408s 408ms/step - loss: 0.6393 - accuracy: 0.6363 - val_loss: 0.6881 - val_accuracy: 0.5602\n",
      "Epoch 9/150\n",
      "1000/1000 [==============================] - 412s 412ms/step - loss: 0.6316 - accuracy: 0.6449 - val_loss: 0.6395 - val_accuracy: 0.6288\n",
      "Epoch 10/150\n",
      "1000/1000 [==============================] - 416s 416ms/step - loss: 0.6183 - accuracy: 0.6730 - val_loss: 0.5919 - val_accuracy: 0.6742\n",
      "Epoch 11/150\n",
      "1000/1000 [==============================] - 419s 419ms/step - loss: 0.5984 - accuracy: 0.6910 - val_loss: 0.7105 - val_accuracy: 0.6688\n",
      "Epoch 12/150\n",
      "1000/1000 [==============================] - 422s 421ms/step - loss: 0.5872 - accuracy: 0.6990 - val_loss: 0.6364 - val_accuracy: 0.6576\n",
      "Epoch 13/150\n",
      "1000/1000 [==============================] - 422s 422ms/step - loss: 0.5541 - accuracy: 0.7274 - val_loss: 0.4981 - val_accuracy: 0.7624\n",
      "Epoch 14/150\n",
      "1000/1000 [==============================] - 412s 412ms/step - loss: 0.5375 - accuracy: 0.7382 - val_loss: 0.5297 - val_accuracy: 0.7490\n",
      "Epoch 15/150\n",
      "1000/1000 [==============================] - 414s 414ms/step - loss: 0.5198 - accuracy: 0.7523 - val_loss: 0.4754 - val_accuracy: 0.7688\n",
      "Epoch 16/150\n",
      "1000/1000 [==============================] - 415s 415ms/step - loss: 0.5007 - accuracy: 0.7670 - val_loss: 0.4433 - val_accuracy: 0.7996\n",
      "Epoch 17/150\n",
      "1000/1000 [==============================] - 421s 421ms/step - loss: 0.4906 - accuracy: 0.7768 - val_loss: 0.5509 - val_accuracy: 0.7400\n",
      "Epoch 18/150\n",
      "1000/1000 [==============================] - 419s 419ms/step - loss: 0.4716 - accuracy: 0.7880 - val_loss: 0.6658 - val_accuracy: 0.6536\n",
      "Epoch 19/150\n",
      "1000/1000 [==============================] - 419s 419ms/step - loss: 0.4366 - accuracy: 0.8052 - val_loss: 0.3622 - val_accuracy: 0.8468\n",
      "Epoch 20/150\n",
      "1000/1000 [==============================] - 421s 421ms/step - loss: 0.4144 - accuracy: 0.8197 - val_loss: 0.4664 - val_accuracy: 0.8124\n",
      "Epoch 21/150\n",
      "1000/1000 [==============================] - 429s 429ms/step - loss: 0.3888 - accuracy: 0.8346 - val_loss: 0.3646 - val_accuracy: 0.8470\n",
      "Epoch 22/150\n",
      "1000/1000 [==============================] - 426s 426ms/step - loss: 0.3574 - accuracy: 0.8504 - val_loss: 0.3899 - val_accuracy: 0.8022\n",
      "Epoch 23/150\n",
      "1000/1000 [==============================] - 423s 423ms/step - loss: 0.3312 - accuracy: 0.8621 - val_loss: 0.3720 - val_accuracy: 0.8424\n",
      "Epoch 24/150\n",
      "1000/1000 [==============================] - 421s 420ms/step - loss: 0.3297 - accuracy: 0.8606 - val_loss: 0.2634 - val_accuracy: 0.8998\n",
      "Epoch 25/150\n",
      "1000/1000 [==============================] - 429s 429ms/step - loss: 0.3161 - accuracy: 0.8713 - val_loss: 0.3127 - val_accuracy: 0.8530\n",
      "Epoch 26/150\n",
      "1000/1000 [==============================] - 433s 432ms/step - loss: 0.2897 - accuracy: 0.8801 - val_loss: 0.3945 - val_accuracy: 0.8540\n",
      "Epoch 27/150\n",
      "1000/1000 [==============================] - 413s 413ms/step - loss: 0.2758 - accuracy: 0.8934 - val_loss: 0.4168 - val_accuracy: 0.8190\n",
      "Epoch 28/150\n",
      "1000/1000 [==============================] - 408s 408ms/step - loss: 0.2602 - accuracy: 0.8964 - val_loss: 0.2387 - val_accuracy: 0.9096\n",
      "Epoch 29/150\n",
      "1000/1000 [==============================] - 402s 402ms/step - loss: 0.2470 - accuracy: 0.9004 - val_loss: 0.2183 - val_accuracy: 0.9104\n",
      "Epoch 30/150\n",
      "1000/1000 [==============================] - 404s 404ms/step - loss: 0.2344 - accuracy: 0.9075 - val_loss: 0.2715 - val_accuracy: 0.8786\n",
      "Epoch 31/150\n",
      "1000/1000 [==============================] - 413s 413ms/step - loss: 0.2247 - accuracy: 0.9092 - val_loss: 0.4332 - val_accuracy: 0.8284\n",
      "Epoch 32/150\n",
      "1000/1000 [==============================] - 416s 416ms/step - loss: 0.2242 - accuracy: 0.9070 - val_loss: 0.1832 - val_accuracy: 0.9328\n",
      "Epoch 33/150\n",
      "1000/1000 [==============================] - 421s 421ms/step - loss: 0.2104 - accuracy: 0.9188 - val_loss: 0.2070 - val_accuracy: 0.9150\n",
      "Epoch 34/150\n",
      "1000/1000 [==============================] - 421s 421ms/step - loss: 0.2045 - accuracy: 0.9205 - val_loss: 0.2346 - val_accuracy: 0.9130\n",
      "Epoch 35/150\n",
      "1000/1000 [==============================] - 418s 418ms/step - loss: 0.1976 - accuracy: 0.9232 - val_loss: 0.8239 - val_accuracy: 0.8030\n",
      "Epoch 36/150\n",
      "1000/1000 [==============================] - 405s 405ms/step - loss: 0.1872 - accuracy: 0.9260 - val_loss: 0.1356 - val_accuracy: 0.9454\n",
      "Epoch 37/150\n",
      "1000/1000 [==============================] - 408s 408ms/step - loss: 0.1781 - accuracy: 0.9290 - val_loss: 0.1463 - val_accuracy: 0.9460\n",
      "Epoch 38/150\n",
      "1000/1000 [==============================] - 411s 411ms/step - loss: 0.1742 - accuracy: 0.9327 - val_loss: 0.1388 - val_accuracy: 0.9492\n",
      "Epoch 39/150\n",
      "1000/1000 [==============================] - 417s 417ms/step - loss: 0.1622 - accuracy: 0.9346 - val_loss: 0.3465 - val_accuracy: 0.8622\n",
      "Epoch 40/150\n",
      "1000/1000 [==============================] - 415s 415ms/step - loss: 0.1673 - accuracy: 0.9353 - val_loss: 0.2378 - val_accuracy: 0.9026\n",
      "Epoch 41/150\n",
      "1000/1000 [==============================] - 405s 405ms/step - loss: 0.1640 - accuracy: 0.9363 - val_loss: 0.1602 - val_accuracy: 0.9418\n",
      "Epoch 42/150\n",
      "1000/1000 [==============================] - 403s 403ms/step - loss: 0.1586 - accuracy: 0.9410 - val_loss: 0.1619 - val_accuracy: 0.9376\n",
      "Epoch 43/150\n",
      "1000/1000 [==============================] - 404s 404ms/step - loss: 0.1456 - accuracy: 0.9400 - val_loss: 0.1534 - val_accuracy: 0.9368\n",
      "Epoch 44/150\n",
      "1000/1000 [==============================] - 398s 398ms/step - loss: 0.1472 - accuracy: 0.9406 - val_loss: 0.3467 - val_accuracy: 0.9494\n",
      "Epoch 45/150\n",
      "1000/1000 [==============================] - 404s 403ms/step - loss: 0.1371 - accuracy: 0.9441 - val_loss: 0.2440 - val_accuracy: 0.9404\n",
      "Epoch 46/150\n",
      "1000/1000 [==============================] - 403s 403ms/step - loss: 0.1377 - accuracy: 0.9449 - val_loss: 0.1851 - val_accuracy: 0.9184\n"
     ]
    }
   ],
   "source": [
    "checkpoint_cb = keras.callbacks.ModelCheckpoint(\"test_model_resnet.h5\", save_best_only=True)\n",
    "early_stopping_cb = keras.callbacks.EarlyStopping(patience=10, restore_best_weights=True)\n",
    "history = model1.fit(train_generator, epochs=150, validation_data=valid_generator, callbacks=[checkpoint_cb, early_stopping_cb])"
   ]
  },
  {
   "cell_type": "code",
   "execution_count": 13,
   "metadata": {
    "execution": {
     "iopub.execute_input": "2021-02-28T23:34:47.854473Z",
     "iopub.status.busy": "2021-02-28T23:34:47.853613Z",
     "iopub.status.idle": "2021-02-28T23:34:49.020103Z",
     "shell.execute_reply": "2021-02-28T23:34:49.018405Z"
    },
    "papermill": {
     "duration": 13.59594,
     "end_time": "2021-02-28T23:34:49.020267",
     "exception": false,
     "start_time": "2021-02-28T23:34:35.424327",
     "status": "completed"
    },
    "tags": []
   },
   "outputs": [],
   "source": [
    "model = keras.models.load_model(\"test_model_resnet.h5\", custom_objects={'ResidualUnit': ResidualUnit})"
   ]
  },
  {
   "cell_type": "code",
   "execution_count": 14,
   "metadata": {
    "execution": {
     "iopub.execute_input": "2021-02-28T23:35:13.348485Z",
     "iopub.status.busy": "2021-02-28T23:35:13.346597Z",
     "iopub.status.idle": "2021-02-28T23:35:13.571200Z",
     "shell.execute_reply": "2021-02-28T23:35:13.570770Z"
    },
    "papermill": {
     "duration": 12.538733,
     "end_time": "2021-02-28T23:35:13.571352",
     "exception": false,
     "start_time": "2021-02-28T23:35:01.032619",
     "status": "completed"
    },
    "tags": []
   },
   "outputs": [
    {
     "data": {
      "text/plain": [
       "Text(0.5, 1.0, 'Training and validation loss')"
      ]
     },
     "execution_count": 14,
     "metadata": {},
     "output_type": "execute_result"
    },
    {
     "data": {
      "image/png": "[encoded data removed]",
      "text/plain": [
       "<Figure size 432x288 with 1 Axes>"
      ]
     },
     "metadata": {
      "needs_background": "light"
     },
     "output_type": "display_data"
    },
    {
     "data": {
      "image/png": "[encoded data removed]",
      "text/plain": [
       "<Figure size 432x288 with 1 Axes>"
      ]
     },
     "metadata": {
      "needs_background": "light"
     },
     "output_type": "display_data"
    }
   ],
   "source": [
    "#-----------------------------------------------------------\n",
    "# Retrieve a list of list results on training and test data\n",
    "# sets for each training epoch\n",
    "#-----------------------------------------------------------\n",
    "acc      = history.history['accuracy']\n",
    "val_acc  = history.history['val_accuracy']\n",
    "loss     = history.history['loss']\n",
    "val_loss = history.history['val_loss']\n",
    "\n",
    "epochs   = range(len(acc)) # Get number of epochs\n",
    "\n",
    "#------------------------------------------------\n",
    "# Plot training and validation accuracy per epoch\n",
    "#------------------------------------------------\n",
    "plt.plot  ( epochs, acc )\n",
    "plt.plot  ( epochs, val_acc )\n",
    "plt.title ('Training and validation accuracy')\n",
    "plt.figure()\n",
    "\n",
    "#------------------------------------------------\n",
    "# Plot training and validation loss per epoch\n",
    "#------------------------------------------------\n",
    "plt.plot  ( epochs,     loss )\n",
    "plt.plot  ( epochs, val_loss )\n",
    "plt.title ('Training and validation loss'   )"
   ]
  }
 ],
 "metadata": {
  "kernelspec": {
   "display_name": "Python 3",
   "language": "python",
   "name": "python3"
  },
  "language_info": {
   "codemirror_mode": {
    "name": "ipython",
    "version": 3
   },
   "file_extension": ".py",
   "mimetype": "text/x-python",
   "name": "python",
   "nbconvert_exporter": "python",
   "pygments_lexer": "ipython3",
   "version": "3.8.5"
  },
  "papermill": {
   "default_parameters": {},
   "duration": 19291.732353,
   "end_time": "2021-02-28T23:40:18.478474",
   "environment_variables": {},
   "exception": null,
   "input_path": "__notebook__.ipynb",
   "output_path": "__notebook__.ipynb",
   "parameters": {},
   "start_time": "2021-02-28T18:18:46.746121",
   "version": "2.2.2"
  }
 },
 "nbformat": 4,
 "nbformat_minor": 4
}
