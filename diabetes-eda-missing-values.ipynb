{
 "cells": [
  {
   "cell_type": "code",
   "execution_count": 1,
   "id": "entitled-champion",
   "metadata": {
    "execution": {
     "iopub.execute_input": "2021-04-13T09:37:27.516878Z",
     "iopub.status.busy": "2021-04-13T09:37:27.515503Z",
     "iopub.status.idle": "2021-04-13T09:37:29.322873Z",
     "shell.execute_reply": "2021-04-13T09:37:29.321540Z"
    },
    "papermill": {
     "duration": 1.830563,
     "end_time": "2021-04-13T09:37:29.323089",
     "exception": false,
     "start_time": "2021-04-13T09:37:27.492526",
     "status": "completed"
    },
    "tags": []
   },
   "outputs": [],
   "source": [
    "from pandas import read_csv, DataFrame\n",
    "from numpy import linspace\n",
    "\n",
    "import matplotlib.pyplot as plt\n",
    "import seaborn as sns\n",
    "\n",
    "from sklearn.preprocessing import MinMaxScaler\n",
    "from sklearn.model_selection import train_test_split, GridSearchCV\n",
    "\n",
    "from sklearn.tree import DecisionTreeClassifier\n",
    "from sklearn.ensemble import ExtraTreesClassifier, GradientBoostingClassifier, RandomForestClassifier\n",
    "\n",
    "from sklearn.metrics import accuracy_score\n",
    "\n",
    "import warnings\n",
    "warnings.filterwarnings('ignore')"
   ]
  },
  {
   "cell_type": "code",
   "execution_count": 2,
   "id": "amazing-xerox",
   "metadata": {
    "execution": {
     "iopub.execute_input": "2021-04-13T09:37:29.365785Z",
     "iopub.status.busy": "2021-04-13T09:37:29.364999Z",
     "iopub.status.idle": "2021-04-13T09:37:29.386709Z",
     "shell.execute_reply": "2021-04-13T09:37:29.385953Z"
    },
    "papermill": {
     "duration": 0.044911,
     "end_time": "2021-04-13T09:37:29.386891",
     "exception": false,
     "start_time": "2021-04-13T09:37:29.341980",
     "status": "completed"
    },
    "tags": []
   },
   "outputs": [],
   "source": [
    "pima = read_csv('../input/pima-indians-diabetes-database/diabetes.csv')"
   ]
  },
  {
   "cell_type": "code",
   "execution_count": 3,
   "id": "varied-bicycle",
   "metadata": {
    "execution": {
     "iopub.execute_input": "2021-04-13T09:37:29.426763Z",
     "iopub.status.busy": "2021-04-13T09:37:29.425798Z",
     "iopub.status.idle": "2021-04-13T09:37:29.468979Z",
     "shell.execute_reply": "2021-04-13T09:37:29.468115Z"
    },
    "papermill": {
     "duration": 0.064348,
     "end_time": "2021-04-13T09:37:29.469200",
     "exception": false,
     "start_time": "2021-04-13T09:37:29.404852",
     "status": "completed"
    },
    "tags": []
   },
   "outputs": [
    {
     "data": {
      "text/html": [
       "<div>\n",
       "<style scoped>\n",
       "    .dataframe tbody tr th:only-of-type {\n",
       "        vertical-align: middle;\n",
       "    }\n",
       "\n",
       "    .dataframe tbody tr th {\n",
       "        vertical-align: top;\n",
       "    }\n",
       "\n",
       "    .dataframe thead th {\n",
       "        text-align: right;\n",
       "    }\n",
       "</style>\n",
       "<table border=\"1\" class=\"dataframe\">\n",
       "  <thead>\n",
       "    <tr style=\"text-align: right;\">\n",
       "      <th></th>\n",
       "      <th>Pregnancies</th>\n",
       "      <th>Glucose</th>\n",
       "      <th>BloodPressure</th>\n",
       "      <th>SkinThickness</th>\n",
       "      <th>Insulin</th>\n",
       "      <th>BMI</th>\n",
       "      <th>DiabetesPedigreeFunction</th>\n",
       "      <th>Age</th>\n",
       "      <th>Outcome</th>\n",
       "    </tr>\n",
       "  </thead>\n",
       "  <tbody>\n",
       "    <tr>\n",
       "      <th>0</th>\n",
       "      <td>6</td>\n",
       "      <td>148</td>\n",
       "      <td>72</td>\n",
       "      <td>35</td>\n",
       "      <td>0</td>\n",
       "      <td>33.6</td>\n",
       "      <td>0.627</td>\n",
       "      <td>50</td>\n",
       "      <td>1</td>\n",
       "    </tr>\n",
       "    <tr>\n",
       "      <th>1</th>\n",
       "      <td>1</td>\n",
       "      <td>85</td>\n",
       "      <td>66</td>\n",
       "      <td>29</td>\n",
       "      <td>0</td>\n",
       "      <td>26.6</td>\n",
       "      <td>0.351</td>\n",
       "      <td>31</td>\n",
       "      <td>0</td>\n",
       "    </tr>\n",
       "    <tr>\n",
       "      <th>2</th>\n",
       "      <td>8</td>\n",
       "      <td>183</td>\n",
       "      <td>64</td>\n",
       "      <td>0</td>\n",
       "      <td>0</td>\n",
       "      <td>23.3</td>\n",
       "      <td>0.672</td>\n",
       "      <td>32</td>\n",
       "      <td>1</td>\n",
       "    </tr>\n",
       "    <tr>\n",
       "      <th>3</th>\n",
       "      <td>1</td>\n",
       "      <td>89</td>\n",
       "      <td>66</td>\n",
       "      <td>23</td>\n",
       "      <td>94</td>\n",
       "      <td>28.1</td>\n",
       "      <td>0.167</td>\n",
       "      <td>21</td>\n",
       "      <td>0</td>\n",
       "    </tr>\n",
       "    <tr>\n",
       "      <th>4</th>\n",
       "      <td>0</td>\n",
       "      <td>137</td>\n",
       "      <td>40</td>\n",
       "      <td>35</td>\n",
       "      <td>168</td>\n",
       "      <td>43.1</td>\n",
       "      <td>2.288</td>\n",
       "      <td>33</td>\n",
       "      <td>1</td>\n",
       "    </tr>\n",
       "  </tbody>\n",
       "</table>\n",
       "</div>"
      ],
      "text/plain": [
       "   Pregnancies  Glucose  BloodPressure  SkinThickness  Insulin   BMI  \\\n",
       "0            6      148             72             35        0  33.6   \n",
       "1            1       85             66             29        0  26.6   \n",
       "2            8      183             64              0        0  23.3   \n",
       "3            1       89             66             23       94  28.1   \n",
       "4            0      137             40             35      168  43.1   \n",
       "\n",
       "   DiabetesPedigreeFunction  Age  Outcome  \n",
       "0                     0.627   50        1  \n",
       "1                     0.351   31        0  \n",
       "2                     0.672   32        1  \n",
       "3                     0.167   21        0  \n",
       "4                     2.288   33        1  "
      ]
     },
     "execution_count": 3,
     "metadata": {},
     "output_type": "execute_result"
    }
   ],
   "source": [
    "pima.head()"
   ]
  },
  {
   "cell_type": "code",
   "execution_count": 4,
   "id": "plain-archive",
   "metadata": {
    "execution": {
     "iopub.execute_input": "2021-04-13T09:37:29.533706Z",
     "iopub.status.busy": "2021-04-13T09:37:29.532723Z",
     "iopub.status.idle": "2021-04-13T09:37:29.536372Z",
     "shell.execute_reply": "2021-04-13T09:37:29.537044Z"
    },
    "papermill": {
     "duration": 0.04835,
     "end_time": "2021-04-13T09:37:29.537290",
     "exception": false,
     "start_time": "2021-04-13T09:37:29.488940",
     "status": "completed"
    },
    "tags": []
   },
   "outputs": [
    {
     "name": "stdout",
     "output_type": "stream",
     "text": [
      "<class 'pandas.core.frame.DataFrame'>\n",
      "RangeIndex: 768 entries, 0 to 767\n",
      "Data columns (total 9 columns):\n",
      " #   Column                    Non-Null Count  Dtype  \n",
      "---  ------                    --------------  -----  \n",
      " 0   Pregnancies               768 non-null    int64  \n",
      " 1   Glucose                   768 non-null    int64  \n",
      " 2   BloodPressure             768 non-null    int64  \n",
      " 3   SkinThickness             768 non-null    int64  \n",
      " 4   Insulin                   768 non-null    int64  \n",
      " 5   BMI                       768 non-null    float64\n",
      " 6   DiabetesPedigreeFunction  768 non-null    float64\n",
      " 7   Age                       768 non-null    int64  \n",
      " 8   Outcome                   768 non-null    int64  \n",
      "dtypes: float64(2), int64(7)\n",
      "memory usage: 54.1 KB\n"
     ]
    }
   ],
   "source": [
    "pima.info()"
   ]
  },
  {
   "cell_type": "code",
   "execution_count": 5,
   "id": "modified-wallet",
   "metadata": {
    "execution": {
     "iopub.execute_input": "2021-04-13T09:37:29.583626Z",
     "iopub.status.busy": "2021-04-13T09:37:29.582723Z",
     "iopub.status.idle": "2021-04-13T09:37:29.632076Z",
     "shell.execute_reply": "2021-04-13T09:37:29.630944Z"
    },
    "papermill": {
     "duration": 0.07525,
     "end_time": "2021-04-13T09:37:29.632275",
     "exception": false,
     "start_time": "2021-04-13T09:37:29.557025",
     "status": "completed"
    },
    "tags": []
   },
   "outputs": [
    {
     "data": {
      "text/html": [
       "<div>\n",
       "<style scoped>\n",
       "    .dataframe tbody tr th:only-of-type {\n",
       "        vertical-align: middle;\n",
       "    }\n",
       "\n",
       "    .dataframe tbody tr th {\n",
       "        vertical-align: top;\n",
       "    }\n",
       "\n",
       "    .dataframe thead th {\n",
       "        text-align: right;\n",
       "    }\n",
       "</style>\n",
       "<table border=\"1\" class=\"dataframe\">\n",
       "  <thead>\n",
       "    <tr style=\"text-align: right;\">\n",
       "      <th></th>\n",
       "      <th>Pregnancies</th>\n",
       "      <th>Glucose</th>\n",
       "      <th>BloodPressure</th>\n",
       "      <th>SkinThickness</th>\n",
       "      <th>Insulin</th>\n",
       "      <th>BMI</th>\n",
       "      <th>DiabetesPedigreeFunction</th>\n",
       "      <th>Age</th>\n",
       "      <th>Outcome</th>\n",
       "    </tr>\n",
       "  </thead>\n",
       "  <tbody>\n",
       "    <tr>\n",
       "      <th>count</th>\n",
       "      <td>768.000000</td>\n",
       "      <td>768.000000</td>\n",
       "      <td>768.000000</td>\n",
       "      <td>768.000000</td>\n",
       "      <td>768.000000</td>\n",
       "      <td>768.000000</td>\n",
       "      <td>768.000000</td>\n",
       "      <td>768.000000</td>\n",
       "      <td>768.000000</td>\n",
       "    </tr>\n",
       "    <tr>\n",
       "      <th>mean</th>\n",
       "      <td>3.845052</td>\n",
       "      <td>120.894531</td>\n",
       "      <td>69.105469</td>\n",
       "      <td>20.536458</td>\n",
       "      <td>79.799479</td>\n",
       "      <td>31.992578</td>\n",
       "      <td>0.471876</td>\n",
       "      <td>33.240885</td>\n",
       "      <td>0.348958</td>\n",
       "    </tr>\n",
       "    <tr>\n",
       "      <th>std</th>\n",
       "      <td>3.369578</td>\n",
       "      <td>31.972618</td>\n",
       "      <td>19.355807</td>\n",
       "      <td>15.952218</td>\n",
       "      <td>115.244002</td>\n",
       "      <td>7.884160</td>\n",
       "      <td>0.331329</td>\n",
       "      <td>11.760232</td>\n",
       "      <td>0.476951</td>\n",
       "    </tr>\n",
       "    <tr>\n",
       "      <th>min</th>\n",
       "      <td>0.000000</td>\n",
       "      <td>0.000000</td>\n",
       "      <td>0.000000</td>\n",
       "      <td>0.000000</td>\n",
       "      <td>0.000000</td>\n",
       "      <td>0.000000</td>\n",
       "      <td>0.078000</td>\n",
       "      <td>21.000000</td>\n",
       "      <td>0.000000</td>\n",
       "    </tr>\n",
       "    <tr>\n",
       "      <th>25%</th>\n",
       "      <td>1.000000</td>\n",
       "      <td>99.000000</td>\n",
       "      <td>62.000000</td>\n",
       "      <td>0.000000</td>\n",
       "      <td>0.000000</td>\n",
       "      <td>27.300000</td>\n",
       "      <td>0.243750</td>\n",
       "      <td>24.000000</td>\n",
       "      <td>0.000000</td>\n",
       "    </tr>\n",
       "    <tr>\n",
       "      <th>50%</th>\n",
       "      <td>3.000000</td>\n",
       "      <td>117.000000</td>\n",
       "      <td>72.000000</td>\n",
       "      <td>23.000000</td>\n",
       "      <td>30.500000</td>\n",
       "      <td>32.000000</td>\n",
       "      <td>0.372500</td>\n",
       "      <td>29.000000</td>\n",
       "      <td>0.000000</td>\n",
       "    </tr>\n",
       "    <tr>\n",
       "      <th>75%</th>\n",
       "      <td>6.000000</td>\n",
       "      <td>140.250000</td>\n",
       "      <td>80.000000</td>\n",
       "      <td>32.000000</td>\n",
       "      <td>127.250000</td>\n",
       "      <td>36.600000</td>\n",
       "      <td>0.626250</td>\n",
       "      <td>41.000000</td>\n",
       "      <td>1.000000</td>\n",
       "    </tr>\n",
       "    <tr>\n",
       "      <th>max</th>\n",
       "      <td>17.000000</td>\n",
       "      <td>199.000000</td>\n",
       "      <td>122.000000</td>\n",
       "      <td>99.000000</td>\n",
       "      <td>846.000000</td>\n",
       "      <td>67.100000</td>\n",
       "      <td>2.420000</td>\n",
       "      <td>81.000000</td>\n",
       "      <td>1.000000</td>\n",
       "    </tr>\n",
       "  </tbody>\n",
       "</table>\n",
       "</div>"
      ],
      "text/plain": [
       "       Pregnancies     Glucose  BloodPressure  SkinThickness     Insulin  \\\n",
       "count   768.000000  768.000000     768.000000     768.000000  768.000000   \n",
       "mean      3.845052  120.894531      69.105469      20.536458   79.799479   \n",
       "std       3.369578   31.972618      19.355807      15.952218  115.244002   \n",
       "min       0.000000    0.000000       0.000000       0.000000    0.000000   \n",
       "25%       1.000000   99.000000      62.000000       0.000000    0.000000   \n",
       "50%       3.000000  117.000000      72.000000      23.000000   30.500000   \n",
       "75%       6.000000  140.250000      80.000000      32.000000  127.250000   \n",
       "max      17.000000  199.000000     122.000000      99.000000  846.000000   \n",
       "\n",
       "              BMI  DiabetesPedigreeFunction         Age     Outcome  \n",
       "count  768.000000                768.000000  768.000000  768.000000  \n",
       "mean    31.992578                  0.471876   33.240885    0.348958  \n",
       "std      7.884160                  0.331329   11.760232    0.476951  \n",
       "min      0.000000                  0.078000   21.000000    0.000000  \n",
       "25%     27.300000                  0.243750   24.000000    0.000000  \n",
       "50%     32.000000                  0.372500   29.000000    0.000000  \n",
       "75%     36.600000                  0.626250   41.000000    1.000000  \n",
       "max     67.100000                  2.420000   81.000000    1.000000  "
      ]
     },
     "execution_count": 5,
     "metadata": {},
     "output_type": "execute_result"
    }
   ],
   "source": [
    "pima.describe()"
   ]
  },
  {
   "cell_type": "markdown",
   "id": "loving-airline",
   "metadata": {
    "papermill": {
     "duration": 0.019693,
     "end_time": "2021-04-13T09:37:29.673306",
     "exception": false,
     "start_time": "2021-04-13T09:37:29.653613",
     "status": "completed"
    },
    "tags": []
   },
   "source": [
    "# Missing Values"
   ]
  },
  {
   "cell_type": "code",
   "execution_count": 6,
   "id": "chicken-valentine",
   "metadata": {
    "execution": {
     "iopub.execute_input": "2021-04-13T09:37:29.719382Z",
     "iopub.status.busy": "2021-04-13T09:37:29.718655Z",
     "iopub.status.idle": "2021-04-13T09:37:29.752162Z",
     "shell.execute_reply": "2021-04-13T09:37:29.752696Z"
    },
    "papermill": {
     "duration": 0.060325,
     "end_time": "2021-04-13T09:37:29.752887",
     "exception": false,
     "start_time": "2021-04-13T09:37:29.692562",
     "status": "completed"
    },
    "tags": []
   },
   "outputs": [
    {
     "name": "stdout",
     "output_type": "stream",
     "text": [
      "Values 0: 5\n",
      "Outcome\n",
      "0    3\n",
      "1    2\n",
      "Name: Outcome, dtype: int64\n"
     ]
    }
   ],
   "source": [
    "print('Values 0:', repr(pima[pima.Glucose == 0].shape[0]))\n",
    "print(pima[pima.Glucose == 0].groupby('Outcome')['Outcome'].count())"
   ]
  },
  {
   "cell_type": "code",
   "execution_count": 7,
   "id": "emotional-memory",
   "metadata": {
    "execution": {
     "iopub.execute_input": "2021-04-13T09:37:29.817742Z",
     "iopub.status.busy": "2021-04-13T09:37:29.814510Z",
     "iopub.status.idle": "2021-04-13T09:37:29.835350Z",
     "shell.execute_reply": "2021-04-13T09:37:29.834546Z"
    },
    "papermill": {
     "duration": 0.062626,
     "end_time": "2021-04-13T09:37:29.835509",
     "exception": false,
     "start_time": "2021-04-13T09:37:29.772883",
     "status": "completed"
    },
    "tags": []
   },
   "outputs": [],
   "source": [
    "Glucose_0 = pima[(pima['Glucose']== 0)]\n",
    "pima[(pima['Glucose']== 0) & (pima['Outcome'] == 0)] = Glucose_0[Glucose_0['Outcome']== 0].replace(0, pima[(pima['Outcome']== 0)].mean())\n",
    "pima[(pima['Glucose']== 0) & (pima['Outcome'] == 1)] = Glucose_0[Glucose_0['Outcome']== 1].replace(0, pima[(pima['Outcome']== 1)].mean())"
   ]
  },
  {
   "cell_type": "code",
   "execution_count": 8,
   "id": "signed-jamaica",
   "metadata": {
    "execution": {
     "iopub.execute_input": "2021-04-13T09:37:29.890517Z",
     "iopub.status.busy": "2021-04-13T09:37:29.889281Z",
     "iopub.status.idle": "2021-04-13T09:37:29.895903Z",
     "shell.execute_reply": "2021-04-13T09:37:29.895056Z"
    },
    "papermill": {
     "duration": 0.039748,
     "end_time": "2021-04-13T09:37:29.896092",
     "exception": false,
     "start_time": "2021-04-13T09:37:29.856344",
     "status": "completed"
    },
    "tags": []
   },
   "outputs": [
    {
     "name": "stdout",
     "output_type": "stream",
     "text": [
      "Values 0: 35\n",
      "Outcome\n",
      "0    19\n",
      "1    16\n",
      "Name: Outcome, dtype: int64\n"
     ]
    }
   ],
   "source": [
    "print(\"Values 0:\", repr(pima[pima.BloodPressure == 0].shape[0]))\n",
    "print(pima[pima.BloodPressure == 0].groupby('Outcome')['Outcome'].count())"
   ]
  },
  {
   "cell_type": "code",
   "execution_count": 9,
   "id": "narrow-storm",
   "metadata": {
    "execution": {
     "iopub.execute_input": "2021-04-13T09:37:29.955832Z",
     "iopub.status.busy": "2021-04-13T09:37:29.952882Z",
     "iopub.status.idle": "2021-04-13T09:37:29.984611Z",
     "shell.execute_reply": "2021-04-13T09:37:29.983863Z"
    },
    "papermill": {
     "duration": 0.066659,
     "end_time": "2021-04-13T09:37:29.984792",
     "exception": false,
     "start_time": "2021-04-13T09:37:29.918133",
     "status": "completed"
    },
    "tags": []
   },
   "outputs": [],
   "source": [
    "BloodPressure_0 = pima[(pima['BloodPressure']== 0)]\n",
    "pima[(pima['BloodPressure']== 0) & (pima['Outcome'] == 0)] = BloodPressure_0[BloodPressure_0['Outcome']== 0].replace(0, pima[(pima['Outcome']== 0)].mean())\n",
    "pima[(pima['BloodPressure']== 0) & (pima['Outcome'] == 1)] = BloodPressure_0[BloodPressure_0['Outcome']== 1].replace(0, pima[(pima['Outcome']== 1)].mean())"
   ]
  },
  {
   "cell_type": "code",
   "execution_count": 10,
   "id": "dominant-casting",
   "metadata": {
    "execution": {
     "iopub.execute_input": "2021-04-13T09:37:30.040744Z",
     "iopub.status.busy": "2021-04-13T09:37:30.039667Z",
     "iopub.status.idle": "2021-04-13T09:37:30.044870Z",
     "shell.execute_reply": "2021-04-13T09:37:30.044100Z"
    },
    "papermill": {
     "duration": 0.038376,
     "end_time": "2021-04-13T09:37:30.045044",
     "exception": false,
     "start_time": "2021-04-13T09:37:30.006668",
     "status": "completed"
    },
    "tags": []
   },
   "outputs": [
    {
     "name": "stdout",
     "output_type": "stream",
     "text": [
      "Values 0: 194\n",
      "Outcome\n",
      "0    121\n",
      "1     73\n",
      "Name: Outcome, dtype: int64\n"
     ]
    }
   ],
   "source": [
    "print(\"Values 0: \" + repr(pima[pima.SkinThickness == 0].shape[0]))\n",
    "print(pima[pima.SkinThickness == 0].groupby('Outcome')['Outcome'].count())"
   ]
  },
  {
   "cell_type": "code",
   "execution_count": 11,
   "id": "interior-wisdom",
   "metadata": {
    "execution": {
     "iopub.execute_input": "2021-04-13T09:37:30.125979Z",
     "iopub.status.busy": "2021-04-13T09:37:30.119672Z",
     "iopub.status.idle": "2021-04-13T09:37:30.133910Z",
     "shell.execute_reply": "2021-04-13T09:37:30.133226Z"
    },
    "papermill": {
     "duration": 0.06719,
     "end_time": "2021-04-13T09:37:30.134112",
     "exception": false,
     "start_time": "2021-04-13T09:37:30.066922",
     "status": "completed"
    },
    "tags": []
   },
   "outputs": [],
   "source": [
    "SkinThickness_0 = pima[(pima['SkinThickness']== 0)]\n",
    "pima[(pima['SkinThickness']== 0) & (pima['Outcome'] == 0)] = SkinThickness_0[SkinThickness_0['Outcome']== 0].replace(0, pima[(pima['Outcome']== 0)].mean())\n",
    "pima[(pima['SkinThickness']== 0) & (pima['Outcome'] == 1)] = SkinThickness_0[SkinThickness_0['Outcome']== 1].replace(0, pima[(pima['Outcome']== 1)].mean())"
   ]
  },
  {
   "cell_type": "code",
   "execution_count": 12,
   "id": "uniform-texture",
   "metadata": {
    "execution": {
     "iopub.execute_input": "2021-04-13T09:37:30.192311Z",
     "iopub.status.busy": "2021-04-13T09:37:30.191597Z",
     "iopub.status.idle": "2021-04-13T09:37:30.195479Z",
     "shell.execute_reply": "2021-04-13T09:37:30.196542Z"
    },
    "papermill": {
     "duration": 0.040996,
     "end_time": "2021-04-13T09:37:30.196906",
     "exception": false,
     "start_time": "2021-04-13T09:37:30.155910",
     "status": "completed"
    },
    "tags": []
   },
   "outputs": [
    {
     "name": "stdout",
     "output_type": "stream",
     "text": [
      "Número de casos anormais na espessura das dobras cutâneas: 2\n",
      "445    63.0\n",
      "579    99.0\n",
      "Name: SkinThickness, dtype: float64\n",
      "Outcome\n",
      "1    2\n",
      "Name: Outcome, dtype: int64\n"
     ]
    }
   ],
   "source": [
    "print(\"Número de casos anormais na espessura das dobras cutâneas: \" + repr(pima[pima.SkinThickness > 60].shape[0]))\n",
    "print(pima[pima.SkinThickness > 60]['SkinThickness'])\n",
    "print(pima[pima.SkinThickness > 60].groupby('Outcome')['Outcome'].count())"
   ]
  },
  {
   "cell_type": "code",
   "execution_count": 13,
   "id": "naked-korea",
   "metadata": {
    "execution": {
     "iopub.execute_input": "2021-04-13T09:37:30.246363Z",
     "iopub.status.busy": "2021-04-13T09:37:30.245695Z",
     "iopub.status.idle": "2021-04-13T09:37:30.253158Z",
     "shell.execute_reply": "2021-04-13T09:37:30.252561Z"
    },
    "papermill": {
     "duration": 0.033234,
     "end_time": "2021-04-13T09:37:30.253330",
     "exception": false,
     "start_time": "2021-04-13T09:37:30.220096",
     "status": "completed"
    },
    "tags": []
   },
   "outputs": [],
   "source": [
    "pima['SkinThickness'].iloc[579] = pima['SkinThickness'].mean()"
   ]
  },
  {
   "cell_type": "code",
   "execution_count": 14,
   "id": "wound-resort",
   "metadata": {
    "execution": {
     "iopub.execute_input": "2021-04-13T09:37:30.301097Z",
     "iopub.status.busy": "2021-04-13T09:37:30.300324Z",
     "iopub.status.idle": "2021-04-13T09:37:30.313986Z",
     "shell.execute_reply": "2021-04-13T09:37:30.313242Z"
    },
    "papermill": {
     "duration": 0.039272,
     "end_time": "2021-04-13T09:37:30.314360",
     "exception": false,
     "start_time": "2021-04-13T09:37:30.275088",
     "status": "completed"
    },
    "tags": []
   },
   "outputs": [
    {
     "name": "stdout",
     "output_type": "stream",
     "text": [
      "Missing Values: 141\n",
      "Outcome\n",
      "0    94\n",
      "1    47\n",
      "Name: Outcome, dtype: int64\n"
     ]
    }
   ],
   "source": [
    "print(\"Missing Values: \" + repr(pima[pima.Insulin == 0].shape[0]))\n",
    "print(pima[pima.Insulin == 0].groupby('Outcome')['Outcome'].count())"
   ]
  },
  {
   "cell_type": "code",
   "execution_count": 15,
   "id": "published-account",
   "metadata": {
    "execution": {
     "iopub.execute_input": "2021-04-13T09:37:30.366944Z",
     "iopub.status.busy": "2021-04-13T09:37:30.365916Z",
     "iopub.status.idle": "2021-04-13T09:37:30.391830Z",
     "shell.execute_reply": "2021-04-13T09:37:30.392362Z"
    },
    "papermill": {
     "duration": 0.054759,
     "end_time": "2021-04-13T09:37:30.392602",
     "exception": false,
     "start_time": "2021-04-13T09:37:30.337843",
     "status": "completed"
    },
    "tags": []
   },
   "outputs": [],
   "source": [
    "Insulin_0 = pima[(pima['Insulin'] == 0)]\n",
    "pima[(pima['Insulin']== 0) & (pima['Outcome'] == 0)] = Insulin_0[Insulin_0['Outcome']== 0].replace(0, pima[(pima['Outcome']== 0)].mean())\n",
    "pima[(pima['Insulin']== 0) & (pima['Outcome'] == 1)] = Insulin_0[Insulin_0['Outcome']== 1].replace(0, pima[(pima['Outcome']== 1)].mean())"
   ]
  },
  {
   "cell_type": "code",
   "execution_count": 16,
   "id": "known-delta",
   "metadata": {
    "execution": {
     "iopub.execute_input": "2021-04-13T09:37:30.448158Z",
     "iopub.status.busy": "2021-04-13T09:37:30.447395Z",
     "iopub.status.idle": "2021-04-13T09:37:30.451326Z",
     "shell.execute_reply": "2021-04-13T09:37:30.452221Z"
    },
    "papermill": {
     "duration": 0.037537,
     "end_time": "2021-04-13T09:37:30.452669",
     "exception": false,
     "start_time": "2021-04-13T09:37:30.415132",
     "status": "completed"
    },
    "tags": []
   },
   "outputs": [
    {
     "name": "stdout",
     "output_type": "stream",
     "text": [
      "Missing Values: 1\n",
      "Outcome\n",
      "0    1\n",
      "Name: Outcome, dtype: int64\n"
     ]
    }
   ],
   "source": [
    "\n",
    "print(\"Missing Values: \" + repr(pima[pima.BMI == 0].shape[0]))\n",
    "print(pima[pima.BMI == 0].groupby('Outcome')['Outcome'].count())"
   ]
  },
  {
   "cell_type": "code",
   "execution_count": 17,
   "id": "liberal-airfare",
   "metadata": {
    "execution": {
     "iopub.execute_input": "2021-04-13T09:37:30.505688Z",
     "iopub.status.busy": "2021-04-13T09:37:30.504241Z",
     "iopub.status.idle": "2021-04-13T09:37:30.527167Z",
     "shell.execute_reply": "2021-04-13T09:37:30.527814Z"
    },
    "papermill": {
     "duration": 0.05094,
     "end_time": "2021-04-13T09:37:30.528038",
     "exception": false,
     "start_time": "2021-04-13T09:37:30.477098",
     "status": "completed"
    },
    "tags": []
   },
   "outputs": [],
   "source": [
    "# Substitua o valor zero pelo valor médio das classes\n",
    "BMI_0 = pima[(pima['BMI']== 0)] \n",
    "pima[(pima['BMI']== 0) & (pima['Outcome'] == 0)] = BMI_0[BMI_0['Outcome']== 0].replace(0, pima[(pima['Outcome']== 0)].mean())\n",
    "pima[(pima['BMI']== 0) & (pima['Outcome'] == 1)] = BMI_0[BMI_0['Outcome']== 1].replace(0, pima[(pima['Outcome']== 1)].mean())"
   ]
  },
  {
   "cell_type": "code",
   "execution_count": 18,
   "id": "friendly-daughter",
   "metadata": {
    "execution": {
     "iopub.execute_input": "2021-04-13T09:37:30.583486Z",
     "iopub.status.busy": "2021-04-13T09:37:30.582637Z",
     "iopub.status.idle": "2021-04-13T09:37:31.315933Z",
     "shell.execute_reply": "2021-04-13T09:37:31.314999Z"
    },
    "papermill": {
     "duration": 0.761526,
     "end_time": "2021-04-13T09:37:31.316108",
     "exception": false,
     "start_time": "2021-04-13T09:37:30.554582",
     "status": "completed"
    },
    "tags": []
   },
   "outputs": [
    {
     "data": {
      "text/plain": [
       "<AxesSubplot:>"
      ]
     },
     "execution_count": 18,
     "metadata": {},
     "output_type": "execute_result"
    },
    {
     "data": {
      "image/png": "[encoded data removed]",
      "text/plain": [
       "<Figure size 1296x720 with 2 Axes>"
      ]
     },
     "metadata": {
      "needs_background": "light"
     },
     "output_type": "display_data"
    }
   ],
   "source": [
    "plt.figure(figsize=(18,10))\n",
    "sns.heatmap(pima.corr(), annot=True, cmap=plt.cm.Blues)"
   ]
  },
  {
   "cell_type": "code",
   "execution_count": 19,
   "id": "stylish-duration",
   "metadata": {
    "execution": {
     "iopub.execute_input": "2021-04-13T09:37:31.377272Z",
     "iopub.status.busy": "2021-04-13T09:37:31.376356Z",
     "iopub.status.idle": "2021-04-13T09:37:31.494408Z",
     "shell.execute_reply": "2021-04-13T09:37:31.493784Z"
    },
    "papermill": {
     "duration": 0.151616,
     "end_time": "2021-04-13T09:37:31.494572",
     "exception": false,
     "start_time": "2021-04-13T09:37:31.342956",
     "status": "completed"
    },
    "tags": []
   },
   "outputs": [
    {
     "data": {
      "text/plain": [
       "<AxesSubplot:xlabel='Outcome', ylabel='count'>"
      ]
     },
     "execution_count": 19,
     "metadata": {},
     "output_type": "execute_result"
    },
    {
     "data": {
      "image/png": "[encoded data removed]",
      "text/plain": [
       "<Figure size 432x288 with 1 Axes>"
      ]
     },
     "metadata": {
      "needs_background": "light"
     },
     "output_type": "display_data"
    }
   ],
   "source": [
    "sns.countplot(pima['Outcome'])"
   ]
  },
  {
   "cell_type": "code",
   "execution_count": 20,
   "id": "fantastic-desperate",
   "metadata": {
    "execution": {
     "iopub.execute_input": "2021-04-13T09:37:31.580643Z",
     "iopub.status.busy": "2021-04-13T09:37:31.555994Z",
     "iopub.status.idle": "2021-04-13T09:37:33.259534Z",
     "shell.execute_reply": "2021-04-13T09:37:33.258042Z"
    },
    "papermill": {
     "duration": 1.738293,
     "end_time": "2021-04-13T09:37:33.259751",
     "exception": false,
     "start_time": "2021-04-13T09:37:31.521458",
     "status": "completed"
    },
    "tags": []
   },
   "outputs": [
    {
     "data": {
      "image/png": "[encoded data removed]",
      "text/plain": [
       "<Figure size 1296x1080 with 8 Axes>"
      ]
     },
     "metadata": {
      "needs_background": "light"
     },
     "output_type": "display_data"
    }
   ],
   "source": [
    "columns = pima.columns[:8]\n",
    "plt.subplots(figsize=(18,15))\n",
    "length = len(columns)\n",
    "\n",
    "for i,j in zip(columns,range(length)):\n",
    "    plt.subplot((length/2), 3, j+1)\n",
    "    plt.subplots_adjust(wspace=0.2, hspace=0.5)\n",
    "    pima[i].hist(bins=20, edgecolor='black')\n",
    "    plt.title(i)\n",
    "plt.show()"
   ]
  },
  {
   "cell_type": "code",
   "execution_count": 21,
   "id": "radical-mattress",
   "metadata": {
    "execution": {
     "iopub.execute_input": "2021-04-13T09:37:33.326994Z",
     "iopub.status.busy": "2021-04-13T09:37:33.325822Z",
     "iopub.status.idle": "2021-04-13T09:37:34.342772Z",
     "shell.execute_reply": "2021-04-13T09:37:34.343740Z"
    },
    "papermill": {
     "duration": 1.055376,
     "end_time": "2021-04-13T09:37:34.343993",
     "exception": false,
     "start_time": "2021-04-13T09:37:33.288617",
     "status": "completed"
    },
    "tags": []
   },
   "outputs": [
    {
     "data": {
      "text/plain": [
       "Pregnancies                    AxesSubplot(0.125,0.657941;0.227941x0.222059)\n",
       "Glucose                     AxesSubplot(0.398529,0.657941;0.227941x0.222059)\n",
       "BloodPressure               AxesSubplot(0.672059,0.657941;0.227941x0.222059)\n",
       "SkinThickness                  AxesSubplot(0.125,0.391471;0.227941x0.222059)\n",
       "Insulin                     AxesSubplot(0.398529,0.391471;0.227941x0.222059)\n",
       "BMI                         AxesSubplot(0.672059,0.391471;0.227941x0.222059)\n",
       "DiabetesPedigreeFunction          AxesSubplot(0.125,0.125;0.227941x0.222059)\n",
       "Age                            AxesSubplot(0.398529,0.125;0.227941x0.222059)\n",
       "Outcome                        AxesSubplot(0.672059,0.125;0.227941x0.222059)\n",
       "dtype: object"
      ]
     },
     "execution_count": 21,
     "metadata": {},
     "output_type": "execute_result"
    },
    {
     "data": {
      "image/png": "[encoded data removed]",
      "text/plain": [
       "<Figure size 1008x720 with 9 Axes>"
      ]
     },
     "metadata": {
      "needs_background": "light"
     },
     "output_type": "display_data"
    }
   ],
   "source": [
    "pima.plot(kind='box', subplots=True, layout=(3,3), figsize=(14,10))"
   ]
  },
  {
   "cell_type": "code",
   "execution_count": 22,
   "id": "worst-italy",
   "metadata": {
    "execution": {
     "iopub.execute_input": "2021-04-13T09:37:34.422712Z",
     "iopub.status.busy": "2021-04-13T09:37:34.418943Z",
     "iopub.status.idle": "2021-04-13T09:37:34.428288Z",
     "shell.execute_reply": "2021-04-13T09:37:34.427561Z"
    },
    "papermill": {
     "duration": 0.049265,
     "end_time": "2021-04-13T09:37:34.428450",
     "exception": false,
     "start_time": "2021-04-13T09:37:34.379185",
     "status": "completed"
    },
    "tags": []
   },
   "outputs": [],
   "source": [
    "x = pima.drop(columns=['Outcome'])\n",
    "y = pima['Outcome']\n",
    "\n",
    "scaler = MinMaxScaler()\n",
    "x = scaler.fit_transform(x)\n",
    "\n",
    "x_treino, x_teste, y_treino, y_teste = train_test_split(x , y, test_size=0.20, stratify=y)"
   ]
  },
  {
   "cell_type": "code",
   "execution_count": 23,
   "id": "civilian-baking",
   "metadata": {
    "execution": {
     "iopub.execute_input": "2021-04-13T09:37:34.500130Z",
     "iopub.status.busy": "2021-04-13T09:37:34.499103Z",
     "iopub.status.idle": "2021-04-13T09:37:35.097046Z",
     "shell.execute_reply": "2021-04-13T09:37:35.096188Z"
    },
    "papermill": {
     "duration": 0.635959,
     "end_time": "2021-04-13T09:37:35.097284",
     "exception": false,
     "start_time": "2021-04-13T09:37:34.461325",
     "status": "completed"
    },
    "tags": []
   },
   "outputs": [
    {
     "name": "stdout",
     "output_type": "stream",
     "text": [
      "Decision Tree Classifier 0.8441558441558441\n",
      "ExtraTrees Classifier 0.8246753246753247\n",
      "Gradient Boosting Classifier 0.8961038961038961\n",
      "Random Forest Classifier 0.8766233766233766\n"
     ]
    }
   ],
   "source": [
    "modelos = []\n",
    "modelos.append(('Decision Tree Classifier',DecisionTreeClassifier()))\n",
    "modelos.append(('ExtraTrees Classifier',ExtraTreesClassifier()))\n",
    "modelos.append(('Gradient Boosting Classifier',GradientBoostingClassifier()))\n",
    "modelos.append(('Random Forest Classifier',RandomForestClassifier()))\n",
    "\n",
    "row_index = 0 \n",
    "\n",
    "for nome, modelo in modelos:\n",
    "    modelo.fit(x_treino, y_treino)\n",
    "    prev = modelo.predict(x_teste)    \n",
    "    acc = accuracy_score(y_teste, prev)\n",
    "    row_index += 1\n",
    "    print(nome, acc)"
   ]
  },
  {
   "cell_type": "code",
   "execution_count": 24,
   "id": "charitable-wrapping",
   "metadata": {
    "execution": {
     "iopub.execute_input": "2021-04-13T09:37:35.173568Z",
     "iopub.status.busy": "2021-04-13T09:37:35.172795Z",
     "iopub.status.idle": "2021-04-13T09:37:59.784211Z",
     "shell.execute_reply": "2021-04-13T09:37:59.783533Z"
    },
    "papermill": {
     "duration": 24.653924,
     "end_time": "2021-04-13T09:37:59.784420",
     "exception": false,
     "start_time": "2021-04-13T09:37:35.130496",
     "status": "completed"
    },
    "tags": []
   },
   "outputs": [
    {
     "name": "stdout",
     "output_type": "stream",
     "text": [
      "Random Forest Classifier 0.8961038961038961\n"
     ]
    }
   ],
   "source": [
    "params = {'n_estimators' : [1, 2, 4, 8, 16, 32, 64, 100, 200],\n",
    "          'learning_rate' : [0.1, 0.01],\n",
    "          'max_depth' : [3,4,5]}\n",
    "         \n",
    "model = GridSearchCV(GradientBoostingClassifier(), params, cv=10, n_jobs=-1).fit(x_treino, y_treino)\n",
    "\n",
    "prev = GradientBoostingClassifier(**model.best_params_).fit(x_treino, y_treino)\n",
    "prev = model.predict(x_teste)\n",
    "acc = accuracy_score(y_teste, prev)\n",
    "print(nome, acc)"
   ]
  }
 ],
 "metadata": {
  "kernelspec": {
   "display_name": "Python 3",
   "language": "python",
   "name": "python3"
  },
  "language_info": {
   "codemirror_mode": {
    "name": "ipython",
    "version": 3
   },
   "file_extension": ".py",
   "mimetype": "text/x-python",
   "name": "python",
   "nbconvert_exporter": "python",
   "pygments_lexer": "ipython3",
   "version": "3.7.9"
  },
  "papermill": {
   "default_parameters": {},
   "duration": 41.619851,
   "end_time": "2021-04-13T09:38:01.237007",
   "environment_variables": {},
   "exception": null,
   "input_path": "__notebook__.ipynb",
   "output_path": "__notebook__.ipynb",
   "parameters": {},
   "start_time": "2021-04-13T09:37:19.617156",
   "version": "2.3.2"
  }
 },
 "nbformat": 4,
 "nbformat_minor": 5
}
